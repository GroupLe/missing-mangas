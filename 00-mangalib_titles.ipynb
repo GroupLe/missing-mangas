{
 "cells": [
  {
   "cell_type": "markdown",
   "metadata": {},
   "source": [
    "# How-to\n",
    "\n",
    "1. Scroll https://mangalib.me/manga-list to bottom\n",
    "2. run js in console:\n",
    "    ```\n",
    "    cards = document.getElementsByClassName('media-card-wrap');\n",
    "    \n",
    "    cards = Array.prototype.slice.call(cards)\n",
    "    \n",
    "    function parse_card(card){\n",
    "        link = card.getElementsByTagName('a')[0].getAttribute('data-media-slug');\n",
    "        data_id = card.getElementsByTagName('a')[0].getAttribute('data-media-id');\n",
    "        manga_type = card.getElementsByTagName('h5')[0].textContent;\n",
    "        name = card.getElementsByTagName('h3')[0].textContent;\n",
    "        return {link: link, data_id: data_id, manga_type: manga_type, name: name}\n",
    "    }\n",
    "    \n",
    "    parsed = cards.map(parse_card)\n",
    "    \n",
    "    data = \"text/json;charset=utf-8,\" + encodeURIComponent(JSON.stringify(parsed));\n",
    "    \n",
    "    document.getElementsByClassName('header')[0].innerHTML = '<a href=\"data:' + data + '\" download=\"data.json\">download JSON</a>';\n",
    "    ```\n",
    "3. Download json by link in header\n",
    "4. Place json in current folder"
   ]
  },
  {
   "cell_type": "code",
   "execution_count": 2,
   "metadata": {},
   "outputs": [],
   "source": [
    "import pandas as pd\n",
    "import json"
   ]
  },
  {
   "cell_type": "code",
   "execution_count": 4,
   "metadata": {},
   "outputs": [],
   "source": [
    "file = 'data/raw_mangalib_titles.json'\n",
    "data = json.load(open(file))"
   ]
  },
  {
   "cell_type": "code",
   "execution_count": 8,
   "metadata": {},
   "outputs": [
    {
     "data": {
      "text/html": [
       "<div>\n",
       "<style scoped>\n",
       "    .dataframe tbody tr th:only-of-type {\n",
       "        vertical-align: middle;\n",
       "    }\n",
       "\n",
       "    .dataframe tbody tr th {\n",
       "        vertical-align: top;\n",
       "    }\n",
       "\n",
       "    .dataframe thead th {\n",
       "        text-align: right;\n",
       "    }\n",
       "</style>\n",
       "<table border=\"1\" class=\"dataframe\">\n",
       "  <thead>\n",
       "    <tr style=\"text-align: right;\">\n",
       "      <th></th>\n",
       "      <th>link</th>\n",
       "      <th>data_id</th>\n",
       "      <th>manga_type</th>\n",
       "      <th>name</th>\n",
       "    </tr>\n",
       "  </thead>\n",
       "  <tbody>\n",
       "    <tr>\n",
       "      <th>0</th>\n",
       "      <td>i-alone-level-up</td>\n",
       "      <td>7580</td>\n",
       "      <td>Манхва</td>\n",
       "      <td>Поднятие уровня в одиночку</td>\n",
       "    </tr>\n",
       "    <tr>\n",
       "      <th>1</th>\n",
       "      <td>you-are-here</td>\n",
       "      <td>4291</td>\n",
       "      <td>Маньхуа</td>\n",
       "      <td>Ты здесь</td>\n",
       "    </tr>\n",
       "    <tr>\n",
       "      <th>2</th>\n",
       "      <td>poidyom-gulyat</td>\n",
       "      <td>67688</td>\n",
       "      <td>Руманга</td>\n",
       "      <td>Пойдём гулять!</td>\n",
       "    </tr>\n",
       "    <tr>\n",
       "      <th>3</th>\n",
       "      <td>the-beginning-after-the-end</td>\n",
       "      <td>6478</td>\n",
       "      <td>OEL-манга</td>\n",
       "      <td>Начало после конца</td>\n",
       "    </tr>\n",
       "    <tr>\n",
       "      <th>4</th>\n",
       "      <td>19-tian</td>\n",
       "      <td>1886</td>\n",
       "      <td>Маньхуа</td>\n",
       "      <td>19 Дней - Однажды</td>\n",
       "    </tr>\n",
       "  </tbody>\n",
       "</table>\n",
       "</div>"
      ],
      "text/plain": [
       "                          link data_id manga_type                        name\n",
       "0             i-alone-level-up    7580     Манхва  Поднятие уровня в одиночку\n",
       "1                 you-are-here    4291    Маньхуа                    Ты здесь\n",
       "2               poidyom-gulyat   67688    Руманга              Пойдём гулять!\n",
       "3  the-beginning-after-the-end    6478  OEL-манга          Начало после конца\n",
       "4                      19-tian    1886    Маньхуа           19 Дней - Однажды"
      ]
     },
     "execution_count": 8,
     "metadata": {},
     "output_type": "execute_result"
    }
   ],
   "source": [
    "df = pd.DataFrame.from_dict(data)\n",
    "df.head()"
   ]
  },
  {
   "cell_type": "code",
   "execution_count": 9,
   "metadata": {},
   "outputs": [],
   "source": [
    "df.to_csv('data/mangalib_catalog_titles.csv', index=False)"
   ]
  },
  {
   "cell_type": "code",
   "execution_count": null,
   "metadata": {},
   "outputs": [],
   "source": []
  }
 ],
 "metadata": {
  "kernelspec": {
   "display_name": "Python 3",
   "language": "python",
   "name": "python3"
  },
  "language_info": {
   "codemirror_mode": {
    "name": "ipython",
    "version": 3
   },
   "file_extension": ".py",
   "mimetype": "text/x-python",
   "name": "python",
   "nbconvert_exporter": "python",
   "pygments_lexer": "ipython3",
   "version": "3.6.9"
  }
 },
 "nbformat": 4,
 "nbformat_minor": 4
}
