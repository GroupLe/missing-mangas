{
 "cells": [
  {
   "cell_type": "markdown",
   "metadata": {},
   "source": [
    "# How-to\n",
    "\n",
    "1. Scroll https://mangalib.me/manga-list to bottom\n",
    "2. run js in console:\n",
    "    ```\n",
    "    cards = document.getElementsByClassName('media-card-wrap');\n",
    "    \n",
    "    cards = Array.prototype.slice.call(cards)\n",
    "    \n",
    "    function parse_card(card){\n",
    "        link = card.getElementsByTagName('a')[0].getAttribute('data-media-slug');\n",
    "        data_id = card.getElementsByTagName('a')[0].getAttribute('data-media-id');\n",
    "        manga_type = card.getElementsByTagName('h5')[0].textContent;\n",
    "        name = card.getElementsByTagName('h3')[0].textContent;\n",
    "        return {link: link, data_id: data_id, manga_type: manga_type, name: name}\n",
    "    }\n",
    "    \n",
    "    parsed = cards.map(parse_card)\n",
    "    \n",
    "    data = \"text/json;charset=utf-8,\" + encodeURIComponent(JSON.stringify(parsed));\n",
    "    \n",
    "    document.getElementsByClassName('header')[0].innerHTML = '<a href=\"data:' + data + '\" download=\"data.json\">download JSON</a>';\n",
    "    ```\n",
    "3. Download json by link in header\n",
    "4. Place json in current folder"
   ]
  },
  {
   "cell_type": "code",
   "execution_count": 1,
   "metadata": {},
   "outputs": [],
   "source": [
    "import pandas as pd\n",
    "import json"
   ]
  },
  {
   "cell_type": "code",
   "execution_count": 2,
   "metadata": {},
   "outputs": [
    {
     "ename": "FileNotFoundError",
     "evalue": "[Errno 2] No such file or directory: 'data/raw_mangalib_titles.json'",
     "output_type": "error",
     "traceback": [
      "\u001b[0;31m---------------------------------------------------------------------------\u001b[0m",
      "\u001b[0;31mFileNotFoundError\u001b[0m                         Traceback (most recent call last)",
      "\u001b[0;32m<ipython-input-2-e6390d1cf763>\u001b[0m in \u001b[0;36m<module>\u001b[0;34m\u001b[0m\n\u001b[1;32m      1\u001b[0m \u001b[0mfile\u001b[0m \u001b[0;34m=\u001b[0m \u001b[0;34m'data/raw_mangalib_titles.json'\u001b[0m\u001b[0;34m\u001b[0m\u001b[0;34m\u001b[0m\u001b[0m\n\u001b[0;32m----> 2\u001b[0;31m \u001b[0mdata\u001b[0m \u001b[0;34m=\u001b[0m \u001b[0mjson\u001b[0m\u001b[0;34m.\u001b[0m\u001b[0mload\u001b[0m\u001b[0;34m(\u001b[0m\u001b[0mopen\u001b[0m\u001b[0;34m(\u001b[0m\u001b[0mfile\u001b[0m\u001b[0;34m)\u001b[0m\u001b[0;34m)\u001b[0m\u001b[0;34m\u001b[0m\u001b[0;34m\u001b[0m\u001b[0m\n\u001b[0m",
      "\u001b[0;31mFileNotFoundError\u001b[0m: [Errno 2] No such file or directory: 'data/raw_mangalib_titles.json'"
     ]
    }
   ],
   "source": [
    "file = 'data/raw_mangalib_titles.json'\n",
    "data = json.load(open(file))"
   ]
  },
  {
   "cell_type": "code",
   "execution_count": null,
   "metadata": {},
   "outputs": [],
   "source": [
    "df = pd.DataFrame.from_dict(data)\n",
    "df.head()"
   ]
  },
  {
   "cell_type": "code",
   "execution_count": null,
   "metadata": {},
   "outputs": [],
   "source": [
    "df.to_csv('data/mangalib_catalog_titles.csv', index=False)"
   ]
  },
  {
   "cell_type": "markdown",
   "metadata": {},
   "source": [
    "# Join downloaded data parts"
   ]
  },
  {
   "cell_type": "code",
   "execution_count": null,
   "metadata": {},
   "outputs": [],
   "source": [
    "import os"
   ]
  },
  {
   "cell_type": "code",
   "execution_count": null,
   "metadata": {},
   "outputs": [],
   "source": [
    "path = 'data/raw/mangalib_full/'\n",
    "files = os.listdir(path)\n",
    "files"
   ]
  },
  {
   "cell_type": "code",
   "execution_count": null,
   "metadata": {},
   "outputs": [],
   "source": [
    "!head -n 4 data/raw/mangalib_full/names\\ and\\ chapters.csv"
   ]
  },
  {
   "cell_type": "code",
   "execution_count": null,
   "metadata": {},
   "outputs": [],
   "source": [
    "def read_data(path, with_nan_col=False, is_special_format=False):\n",
    "    headers = ['link', 'views', 'chapters', 'manga_type', 'author', 'name', 'eng_name', 'original_name']\n",
    "    \n",
    "    df = pd.read_csv(path, sep=';')\n",
    "    \n",
    "    if is_special_format:\n",
    "        df = df.iloc[:, 1:9]\n",
    "\n",
    "    df.columns = headers + ['nan'] * (len(df.columns) - len(headers))\n",
    "    if len(df.columns) <= 8:\n",
    "        df.loc[:, 'nan'] = None\n",
    "    return df"
   ]
  },
  {
   "cell_type": "code",
   "execution_count": null,
   "metadata": {},
   "outputs": [],
   "source": [
    "dfs = [read_data(path + 'names and chapters.csv', is_special_format=True),\n",
    "       read_data(path + 'names and chapters 2.csv'),\n",
    "       read_data(path + 'names and chapters 3.csv'),\n",
    "       read_data(path + 'names and chapters last.csv')]\n",
    "print(list(map(len, dfs)))\n",
    "df = pd.concat(dfs)\n",
    "# df.head(3)"
   ]
  },
  {
   "cell_type": "code",
   "execution_count": null,
   "metadata": {},
   "outputs": [],
   "source": [
    "df = df.drop_duplicates(subset=['link']).shape, df.shape"
   ]
  },
  {
   "cell_type": "code",
   "execution_count": null,
   "metadata": {},
   "outputs": [],
   "source": [
    "df.head(3)"
   ]
  },
  {
   "cell_type": "code",
   "execution_count": null,
   "metadata": {},
   "outputs": [],
   "source": [
    "df.to_csv('data/raw/mangalib_full.csv', index=False)"
   ]
  },
  {
   "cell_type": "code",
   "execution_count": null,
   "metadata": {},
   "outputs": [],
   "source": []
  }
 ],
 "metadata": {
  "kernelspec": {
   "display_name": "Python 3",
   "language": "python",
   "name": "python3"
  },
  "language_info": {
   "codemirror_mode": {
    "name": "ipython",
    "version": 3
   },
   "file_extension": ".py",
   "mimetype": "text/x-python",
   "name": "python",
   "nbconvert_exporter": "python",
   "pygments_lexer": "ipython3",
   "version": "3.6.9"
  }
 },
 "nbformat": 4,
 "nbformat_minor": 4
}
