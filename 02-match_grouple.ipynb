{
 "cells": [
  {
   "cell_type": "code",
   "execution_count": 1,
   "metadata": {},
   "outputs": [],
   "source": [
    "import pandas as pd\n",
    "from tqdm.notebook import tqdm\n",
    "import matplotlib.pyplot as plt\n",
    "from entities import Title"
   ]
  },
  {
   "cell_type": "code",
   "execution_count": 2,
   "metadata": {},
   "outputs": [],
   "source": [
    "def match_mangas(source_df, target_df, target_df_name_columns: list, target_df_name: str):\n",
    "    \n",
    "    # create manga titles\n",
    "    ru_names = source_df.name.tolist()\n",
    "    an_names = source_df.original_name.tolist()\n",
    "    en_names = source_df.eng_name.tolist()\n",
    "    ids = source_df.index.tolist()\n",
    "    gtitles = [Title([ru_names[i], an_names[i], en_names[i]], meta={'index': ids[i]}) for i in range(len(ru_names))]\n",
    "    \n",
    "    target_manga_names = list(target_df[target_df_name_columns].to_records(index=False))\n",
    "    ids = target_df.index.tolist()\n",
    "    mtitles = [Title(list(target_manga_names[i]), meta={'index': ids[i]}) for i in range(len(target_manga_names))]\n",
    "\n",
    "    print('source titles n:', len(gtitles))\n",
    "    print('target titles n:', len(mtitles))\n",
    "    \n",
    "    matched = []\n",
    "    q_matches = []\n",
    "    source_df.loc[:, f'{target_df_name}_id'] = None\n",
    "    source_df.loc[f'n_duplicates_{target_df_name}'] = 0\n",
    "\n",
    "    for i, gtitle in tqdm(enumerate(gtitles), total=len(gtitles)):\n",
    "        matches = 0\n",
    "        for j, mtitle in enumerate(mtitles):\n",
    "\n",
    "            if mtitle is None:\n",
    "                continue\n",
    "\n",
    "            if mtitle == gtitle:\n",
    "                if matches > 0:\n",
    "                    matched[-1].append(mtitle)\n",
    "                else:\n",
    "                    matched.append([gtitle, mtitle])\n",
    "                matches += 1\n",
    "\n",
    "\n",
    "        if matches == 1:\n",
    "            # if and only one2one corresponding found\n",
    "            mtitle = matched[-1][-1]\n",
    "            source_df.loc[i, f'{target_df_name}_id'] = mtitle.get_index()\n",
    "\n",
    "        elif matches > 1:\n",
    "            # search the most similar\n",
    "            g_index = gtitle.get_index()\n",
    "            curr_matched = matched[-1]\n",
    "            n_similars = [gtitle.strong_equal_names_n(mtitle) for mtitle in curr_matched[1:]]\n",
    "            if n_similars.count(max(n_similars)) > 1:\n",
    "                # if more then 1 top similar\n",
    "                top_similars_recorded = 0\n",
    "                for k, (n_sim, item) in enumerate(zip(n_similars, curr_matched[1:])):\n",
    "                    if n_sim == max(n_similars) and top_similars_recorded == 0:\n",
    "                        source_df.loc[g_index, f'{target_df_name}_id'] = item.get_index()\n",
    "                    elif n_sim == max(n_similars):\n",
    "                        source_df.loc[g_index, f'{target_df_name}_id_%d' % top_similars_recorded] = item.get_index()\n",
    "                    top_similars_recorded += 1\n",
    "                source_df.loc[g_index, f'n_duplicates_{target_df_name}'] = top_similars_recorded\n",
    "            else:\n",
    "                # if 1 similar\n",
    "                top_simimlar_ix = n_similars.index(max(n_similars))\n",
    "                top_similar_item = curr_matched[1:][top_simimlar_ix]\n",
    "                source_df.loc[g_index, f'{target_df_name}_id'] = top_similar_item.get_index()\n",
    "\n",
    "        q_matches.append(matches)\n",
    "        \n",
    "    return {'q_matches': q_matches,\n",
    "            'source_df': source_df,\n",
    "            'matched': matched}"
   ]
  },
  {
   "cell_type": "markdown",
   "metadata": {},
   "source": [
    "# Match remanga"
   ]
  },
  {
   "cell_type": "code",
   "execution_count": 3,
   "metadata": {},
   "outputs": [
    {
     "data": {
      "text/html": [
       "<div>\n",
       "<style scoped>\n",
       "    .dataframe tbody tr th:only-of-type {\n",
       "        vertical-align: middle;\n",
       "    }\n",
       "\n",
       "    .dataframe tbody tr th {\n",
       "        vertical-align: top;\n",
       "    }\n",
       "\n",
       "    .dataframe thead th {\n",
       "        text-align: right;\n",
       "    }\n",
       "</style>\n",
       "<table border=\"1\" class=\"dataframe\">\n",
       "  <thead>\n",
       "    <tr style=\"text-align: right;\">\n",
       "      <th></th>\n",
       "      <th>rus_name</th>\n",
       "      <th>en_name</th>\n",
       "      <th>issue_year</th>\n",
       "      <th>avg_rating</th>\n",
       "      <th>total_views</th>\n",
       "      <th>total_votes</th>\n",
       "      <th>type</th>\n",
       "      <th>dir</th>\n",
       "      <th>n_chapters</th>\n",
       "    </tr>\n",
       "  </thead>\n",
       "  <tbody>\n",
       "    <tr>\n",
       "      <th>0</th>\n",
       "      <td>Поднятие уровня в одиночку</td>\n",
       "      <td>Solo Leveling</td>\n",
       "      <td>2018.0</td>\n",
       "      <td>9.6</td>\n",
       "      <td>9546754</td>\n",
       "      <td>1210457</td>\n",
       "      <td>Манхва</td>\n",
       "      <td>solo-leveling</td>\n",
       "      <td>151.0</td>\n",
       "    </tr>\n",
       "    <tr>\n",
       "      <th>1</th>\n",
       "      <td>Начало после конца</td>\n",
       "      <td>The Beginning After the End</td>\n",
       "      <td>2018.0</td>\n",
       "      <td>9.6</td>\n",
       "      <td>6130139</td>\n",
       "      <td>1172388</td>\n",
       "      <td>Западный комикс</td>\n",
       "      <td>the_beginning_after_the_end</td>\n",
       "      <td>107.0</td>\n",
       "    </tr>\n",
       "  </tbody>\n",
       "</table>\n",
       "</div>"
      ],
      "text/plain": [
       "                     rus_name                      en_name  issue_year  \\\n",
       "0  Поднятие уровня в одиночку                Solo Leveling      2018.0   \n",
       "1          Начало после конца  The Beginning After the End      2018.0   \n",
       "\n",
       "   avg_rating  total_views  total_votes             type  \\\n",
       "0         9.6      9546754      1210457           Манхва   \n",
       "1         9.6      6130139      1172388  Западный комикс   \n",
       "\n",
       "                           dir n_chapters  \n",
       "0                solo-leveling      151.0  \n",
       "1  the_beginning_after_the_end      107.0  "
      ]
     },
     "execution_count": 3,
     "metadata": {},
     "output_type": "execute_result"
    }
   ],
   "source": [
    "remanga = pd.read_csv('./data/raw/remanga_catalog_full.csv')\n",
    "remanga.head(2)"
   ]
  },
  {
   "cell_type": "markdown",
   "metadata": {},
   "source": [
    "## With readmanga"
   ]
  },
  {
   "cell_type": "code",
   "execution_count": 4,
   "metadata": {},
   "outputs": [
    {
     "data": {
      "text/html": [
       "<div>\n",
       "<style scoped>\n",
       "    .dataframe tbody tr th:only-of-type {\n",
       "        vertical-align: middle;\n",
       "    }\n",
       "\n",
       "    .dataframe tbody tr th {\n",
       "        vertical-align: top;\n",
       "    }\n",
       "\n",
       "    .dataframe thead th {\n",
       "        text-align: right;\n",
       "    }\n",
       "</style>\n",
       "<table border=\"1\" class=\"dataframe\">\n",
       "  <thead>\n",
       "    <tr style=\"text-align: right;\">\n",
       "      <th></th>\n",
       "      <th>id</th>\n",
       "      <th>name</th>\n",
       "      <th>eng_name</th>\n",
       "      <th>original_name</th>\n",
       "      <th>another_names</th>\n",
       "      <th>chapters_count</th>\n",
       "    </tr>\n",
       "  </thead>\n",
       "  <tbody>\n",
       "    <tr>\n",
       "      <th>0</th>\n",
       "      <td>1</td>\n",
       "      <td>Ван Пис</td>\n",
       "      <td>One Piece</td>\n",
       "      <td>One Piece</td>\n",
       "      <td>Budak Getah / Большой Куш / ワンピース / Один Кусок</td>\n",
       "      <td>1028</td>\n",
       "    </tr>\n",
       "    <tr>\n",
       "      <th>1</th>\n",
       "      <td>2</td>\n",
       "      <td>Наруто</td>\n",
       "      <td>Naruto</td>\n",
       "      <td>Naruto</td>\n",
       "      <td>ナルト</td>\n",
       "      <td>704</td>\n",
       "    </tr>\n",
       "  </tbody>\n",
       "</table>\n",
       "</div>"
      ],
      "text/plain": [
       "   id     name   eng_name original_name  \\\n",
       "0   1  Ван Пис  One Piece     One Piece   \n",
       "1   2   Наруто     Naruto        Naruto   \n",
       "\n",
       "                                    another_names  chapters_count  \n",
       "0  Budak Getah / Большой Куш / ワンピース / Один Кусок            1028  \n",
       "1                                             ナルト             704  "
      ]
     },
     "execution_count": 4,
     "metadata": {},
     "output_type": "execute_result"
    }
   ],
   "source": [
    "gmanga = pd.read_csv('./data/raw/manga.csv', sep=';')\n",
    "gmanga.head(2)"
   ]
  },
  {
   "cell_type": "code",
   "execution_count": null,
   "metadata": {},
   "outputs": [
    {
     "name": "stdout",
     "output_type": "stream",
     "text": [
      "source titles n: 20825\n",
      "target titles n: 16899\n"
     ]
    },
    {
     "data": {
      "application/vnd.jupyter.widget-view+json": {
       "model_id": "24f53ecf132e4b46be7403cb43dcc750",
       "version_major": 2,
       "version_minor": 0
      },
      "text/plain": [
       "HBox(children=(FloatProgress(value=0.0, max=20825.0), HTML(value='')))"
      ]
     },
     "metadata": {},
     "output_type": "display_data"
    }
   ],
   "source": [
    "res_gmanga_rm = match_mangas(gmanga, remanga, ['rus_name', 'en_name'], 'remanga')\n",
    "gmanga = res_gmanga_rm['source_df']"
   ]
  },
  {
   "cell_type": "code",
   "execution_count": null,
   "metadata": {},
   "outputs": [],
   "source": [
    "gmanga.to_csv('data/gmanga_matched_remanga_ids.csv', sep=';')"
   ]
  },
  {
   "cell_type": "code",
   "execution_count": null,
   "metadata": {},
   "outputs": [],
   "source": [
    "_ = plt.hist(q_matches)"
   ]
  },
  {
   "cell_type": "markdown",
   "metadata": {},
   "source": [
    "## With mintmanga"
   ]
  },
  {
   "cell_type": "code",
   "execution_count": null,
   "metadata": {},
   "outputs": [],
   "source": [
    "gmint = pd.read_csv('./data/raw/mint.csv', sep=';')\n",
    "print(gmint.shape)\n",
    "gmint.head()"
   ]
  },
  {
   "cell_type": "code",
   "execution_count": null,
   "metadata": {},
   "outputs": [],
   "source": [
    "res_gmint_rm = match_mangas(gmint, remanga, ['rus_name', 'rn_name'], 'remanga')\n",
    "gmint = res_gmint_rm['source_df']"
   ]
  },
  {
   "cell_type": "code",
   "execution_count": null,
   "metadata": {},
   "outputs": [],
   "source": [
    "gmint.to_csv('data/gmint_matched_remanga_ids.csv', sep=';', index=False)"
   ]
  },
  {
   "cell_type": "code",
   "execution_count": null,
   "metadata": {},
   "outputs": [],
   "source": [
    "_ = plt.hist(q_matches)"
   ]
  },
  {
   "cell_type": "markdown",
   "metadata": {},
   "source": [
    "# Match mangalib"
   ]
  },
  {
   "cell_type": "code",
   "execution_count": null,
   "metadata": {},
   "outputs": [],
   "source": [
    "mangalib = pd.read_csv('./data/raw/mangalib_catalog_titles.csv')\n",
    "print(mangalib.shape)\n",
    "mangalib.head()"
   ]
  },
  {
   "cell_type": "markdown",
   "metadata": {},
   "source": [
    "## with readmanga"
   ]
  },
  {
   "cell_type": "code",
   "execution_count": null,
   "metadata": {},
   "outputs": [],
   "source": [
    "gmanga = pd.read_csv('data/gmanga_matched_remanga_ids.csv', sep=';')\n",
    "print(gmanga.shape)"
   ]
  },
  {
   "cell_type": "code",
   "execution_count": null,
   "metadata": {
    "jupyter": {
     "source_hidden": true
    }
   },
   "outputs": [],
   "source": [
    "# create manga titles\n",
    "ru_names = gmanga.name.tolist()\n",
    "an_names = gmanga.original_name.tolist()\n",
    "en_names = gmanga.eng_name.tolist()\n",
    "ids = gmanga.index.tolist()\n",
    "gtitles = [Title([ru_names[i], an_names[i], en_names[i]], meta={'index': ids[i]}) for i in range(len(ru_names))]\n",
    "\n",
    "ru_names = mangalib.name.tolist()\n",
    "ids = mangalib.index.tolist()\n",
    "mtitles = [Title([ru_names[i],], meta={'index': ids[i]}) for i in range(len(ru_names))]\n",
    "\n",
    "len(gtitles), len(mtitles)"
   ]
  },
  {
   "cell_type": "code",
   "execution_count": null,
   "metadata": {},
   "outputs": [],
   "source": [
    "res_gmanga_mangalib = match_mangas(gmanga, mangalib, ['name'], 'mangalib')\n",
    "gmanga = res_gmanga_mangalib['source_df']"
   ]
  },
  {
   "cell_type": "code",
   "execution_count": null,
   "metadata": {},
   "outputs": [],
   "source": [
    "gmanga.to_csv('./data/gmanga_matched_remanga_mangalib_ids.csv', sep=';', index=False)"
   ]
  },
  {
   "cell_type": "code",
   "execution_count": null,
   "metadata": {},
   "outputs": [],
   "source": [
    "_ = plt.hist(q_matches)"
   ]
  },
  {
   "cell_type": "markdown",
   "metadata": {},
   "source": [
    "## with mintmanga"
   ]
  },
  {
   "cell_type": "code",
   "execution_count": null,
   "metadata": {},
   "outputs": [],
   "source": [
    "gmint = pd.read_csv('data/gmint_matched_remanga_ids.csv', sep=';')\n",
    "gmint.head(2)"
   ]
  },
  {
   "cell_type": "code",
   "execution_count": null,
   "metadata": {},
   "outputs": [],
   "source": [
    "res_gmint_mangalib = match_mangas(gmint, mangalib, ['name'], 'mangalib')\n",
    "gmint = res_gmint_mangalib['source_df']"
   ]
  },
  {
   "cell_type": "code",
   "execution_count": null,
   "metadata": {},
   "outputs": [],
   "source": [
    "gmint.to_csv('data/gmint_matched_remanga_mangalib_ids.csv', sep=';', index=False)"
   ]
  },
  {
   "cell_type": "code",
   "execution_count": null,
   "metadata": {},
   "outputs": [],
   "source": [
    "_ = plt.hist(res_gmint_mangalib['q_matches'])"
   ]
  },
  {
   "cell_type": "code",
   "execution_count": null,
   "metadata": {},
   "outputs": [],
   "source": []
  }
 ],
 "metadata": {
  "kernelspec": {
   "display_name": "Python 3",
   "language": "python",
   "name": "python3"
  },
  "language_info": {
   "codemirror_mode": {
    "name": "ipython",
    "version": 3
   },
   "file_extension": ".py",
   "mimetype": "text/x-python",
   "name": "python",
   "nbconvert_exporter": "python",
   "pygments_lexer": "ipython3",
   "version": "3.6.9"
  }
 },
 "nbformat": 4,
 "nbformat_minor": 4
}
