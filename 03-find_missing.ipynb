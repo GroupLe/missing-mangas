{
 "cells": [
  {
   "cell_type": "code",
   "execution_count": 1,
   "metadata": {},
   "outputs": [],
   "source": [
    "import pandas as pd\n",
    "from tqdm.notebook import tqdm\n",
    "import matplotlib.pyplot as plt"
   ]
  },
  {
   "cell_type": "code",
   "execution_count": 2,
   "metadata": {},
   "outputs": [],
   "source": [
    "remanga = pd.read_csv('./data/raw/remanga_catalog_full.csv')\n",
    "mangalib = pd.read_csv('./data/raw/mangalib_catalog_titles.csv')\n",
    "gmanga_matched = pd.read_csv('data/gmanga_matched_remanga_mangalib.csv', sep=';')\n",
    "gmint_matched = pd.read_csv('data/gmint_matched_remanga_mangalib.csv', sep=';')\n",
    "selfmanga_matched = pd.read_csv('data/selfmanga_matched_remanga_mangalib.csv', sep=';')"
   ]
  },
  {
   "cell_type": "code",
   "execution_count": 3,
   "metadata": {},
   "outputs": [
    {
     "data": {
      "text/html": [
       "<div>\n",
       "<style scoped>\n",
       "    .dataframe tbody tr th:only-of-type {\n",
       "        vertical-align: middle;\n",
       "    }\n",
       "\n",
       "    .dataframe tbody tr th {\n",
       "        vertical-align: top;\n",
       "    }\n",
       "\n",
       "    .dataframe thead th {\n",
       "        text-align: right;\n",
       "    }\n",
       "</style>\n",
       "<table border=\"1\" class=\"dataframe\">\n",
       "  <thead>\n",
       "    <tr style=\"text-align: right;\">\n",
       "      <th></th>\n",
       "      <th>Unnamed: 0</th>\n",
       "      <th>Unnamed: 0.1</th>\n",
       "      <th>id</th>\n",
       "      <th>name</th>\n",
       "      <th>eng_name</th>\n",
       "      <th>original_name</th>\n",
       "      <th>another_names</th>\n",
       "      <th>chapters_count</th>\n",
       "      <th>remanga_id</th>\n",
       "      <th>mangalib_id</th>\n",
       "    </tr>\n",
       "  </thead>\n",
       "  <tbody>\n",
       "    <tr>\n",
       "      <th>0</th>\n",
       "      <td>0</td>\n",
       "      <td>0</td>\n",
       "      <td>1</td>\n",
       "      <td>Ван Пис</td>\n",
       "      <td>One Piece</td>\n",
       "      <td>One Piece</td>\n",
       "      <td>Budak Getah / Большой Куш / ワンピース / Один Кусок</td>\n",
       "      <td>1028</td>\n",
       "      <td>489.0</td>\n",
       "      <td>85.0</td>\n",
       "    </tr>\n",
       "  </tbody>\n",
       "</table>\n",
       "</div>"
      ],
      "text/plain": [
       "  Unnamed: 0 Unnamed: 0.1  id     name   eng_name original_name  \\\n",
       "0          0            0   1  Ван Пис  One Piece     One Piece   \n",
       "\n",
       "                                    another_names  chapters_count  remanga_id  \\\n",
       "0  Budak Getah / Большой Куш / ワンピース / Один Кусок            1028       489.0   \n",
       "\n",
       "   mangalib_id  \n",
       "0         85.0  "
      ]
     },
     "execution_count": 3,
     "metadata": {},
     "output_type": "execute_result"
    }
   ],
   "source": [
    "gmanga_matched.head(1)"
   ]
  },
  {
   "cell_type": "code",
   "execution_count": 4,
   "metadata": {},
   "outputs": [
    {
     "data": {
      "text/html": [
       "<div>\n",
       "<style scoped>\n",
       "    .dataframe tbody tr th:only-of-type {\n",
       "        vertical-align: middle;\n",
       "    }\n",
       "\n",
       "    .dataframe tbody tr th {\n",
       "        vertical-align: top;\n",
       "    }\n",
       "\n",
       "    .dataframe thead th {\n",
       "        text-align: right;\n",
       "    }\n",
       "</style>\n",
       "<table border=\"1\" class=\"dataframe\">\n",
       "  <thead>\n",
       "    <tr style=\"text-align: right;\">\n",
       "      <th></th>\n",
       "      <th>Unnamed: 0</th>\n",
       "      <th>Unnamed: 0.1</th>\n",
       "      <th>id</th>\n",
       "      <th>name</th>\n",
       "      <th>eng_name</th>\n",
       "      <th>original_name</th>\n",
       "      <th>another_names</th>\n",
       "      <th>chapters_count</th>\n",
       "      <th>remanga_id</th>\n",
       "      <th>mangalib_id</th>\n",
       "    </tr>\n",
       "  </thead>\n",
       "  <tbody>\n",
       "    <tr>\n",
       "      <th>0</th>\n",
       "      <td>0</td>\n",
       "      <td>0</td>\n",
       "      <td>11</td>\n",
       "      <td>Денег нет!</td>\n",
       "      <td>No money</td>\n",
       "      <td>Okane ga nai</td>\n",
       "      <td>お金がないっ / 午夜情深 / 没有钱</td>\n",
       "      <td>116</td>\n",
       "      <td>9766.0</td>\n",
       "      <td>NaN</td>\n",
       "    </tr>\n",
       "  </tbody>\n",
       "</table>\n",
       "</div>"
      ],
      "text/plain": [
       "  Unnamed: 0 Unnamed: 0.1  id        name  eng_name original_name  \\\n",
       "0          0            0  11  Денег нет!  No money  Okane ga nai   \n",
       "\n",
       "         another_names  chapters_count  remanga_id  mangalib_id  \n",
       "0  お金がないっ / 午夜情深 / 没有钱             116      9766.0          NaN  "
      ]
     },
     "execution_count": 4,
     "metadata": {},
     "output_type": "execute_result"
    }
   ],
   "source": [
    "gmint_matched.head(1)"
   ]
  },
  {
   "cell_type": "code",
   "execution_count": 5,
   "metadata": {},
   "outputs": [],
   "source": [
    "# clean data\n",
    "def del_useless_cols(df):\n",
    "    useless = list(filter(lambda col: col.lower().count('unnamed')>0, df.columns.tolist()))\n",
    "    df = df[df.name != '0']\n",
    "    return df.drop(useless, axis=1)\n",
    "\n",
    "gmanga_matched = del_useless_cols(gmanga_matched)\n",
    "gmint_matched = del_useless_cols(gmint_matched)\n",
    "selfmanga_matched = del_useless_cols(selfmanga_matched)\n",
    "remanga.loc[:, 'id'] = list(range(len(remanga)))\n"
   ]
  },
  {
   "cell_type": "code",
   "execution_count": 13,
   "metadata": {},
   "outputs": [],
   "source": [
    "is_num = lambda s: (all(list(map(lambda c: c.isdigit() or c == '.', str(s)))))\n",
    "def fetch_chapter(s):\n",
    "    # from string ГЛАВЫ(N)\n",
    "    s = s.lower().replace('главы (', '').strip(')')\n",
    "    return s\n",
    "remanga.loc[~remanga.n_chapters.apply(is_num), 'n_chapters'] = remanga[~remanga.n_chapters.apply(is_num)].n_chapters.apply(fetch_chapter)\n",
    "remanga['n_chapters'] = remanga.n_chapters.astype(float).astype(int)"
   ]
  },
  {
   "cell_type": "code",
   "execution_count": 16,
   "metadata": {},
   "outputs": [],
   "source": [
    "def get_matched(df):\n",
    "    return df[(~df.remanga_id.isna() | (~df.mangalib_id.isna()))]"
   ]
  },
  {
   "cell_type": "code",
   "execution_count": 17,
   "metadata": {},
   "outputs": [
    {
     "data": {
      "text/plain": [
       "0.24145001830831198"
      ]
     },
     "execution_count": 17,
     "metadata": {},
     "output_type": "execute_result"
    }
   ],
   "source": [
    "len(get_matched(gmint_matched) )/ len(gmint_matched)"
   ]
  },
  {
   "cell_type": "code",
   "execution_count": 18,
   "metadata": {},
   "outputs": [
    {
     "data": {
      "text/plain": [
       "0.5302280912364946"
      ]
     },
     "execution_count": 18,
     "metadata": {},
     "output_type": "execute_result"
    }
   ],
   "source": [
    "len(get_matched(gmanga_matched) )/ len(gmanga_matched)"
   ]
  },
  {
   "cell_type": "code",
   "execution_count": 19,
   "metadata": {},
   "outputs": [
    {
     "data": {
      "text/plain": [
       "0.0688659793814433"
      ]
     },
     "execution_count": 19,
     "metadata": {},
     "output_type": "execute_result"
    }
   ],
   "source": [
    "len(get_matched(selfmanga_matched) )/ len(selfmanga_matched)"
   ]
  },
  {
   "cell_type": "code",
   "execution_count": 20,
   "metadata": {},
   "outputs": [],
   "source": [
    "fetch_valid_ixs = lambda df, col: df[~df[col].isna()][col].tolist()\n",
    "remanga_matched_ids = []\n",
    "remanga_matched_ids += fetch_valid_ixs(gmanga_matched, 'remanga_id')\n",
    "remanga_matched_ids += fetch_valid_ixs(gmint_matched, 'remanga_id')\n",
    "remanga_matched_ids += fetch_valid_ixs(selfmanga_matched, 'remanga_id')"
   ]
  },
  {
   "cell_type": "code",
   "execution_count": 21,
   "metadata": {},
   "outputs": [
    {
     "data": {
      "text/html": [
       "<div>\n",
       "<style scoped>\n",
       "    .dataframe tbody tr th:only-of-type {\n",
       "        vertical-align: middle;\n",
       "    }\n",
       "\n",
       "    .dataframe tbody tr th {\n",
       "        vertical-align: top;\n",
       "    }\n",
       "\n",
       "    .dataframe thead th {\n",
       "        text-align: right;\n",
       "    }\n",
       "</style>\n",
       "<table border=\"1\" class=\"dataframe\">\n",
       "  <thead>\n",
       "    <tr style=\"text-align: right;\">\n",
       "      <th></th>\n",
       "      <th>rus_name</th>\n",
       "      <th>en_name</th>\n",
       "      <th>issue_year</th>\n",
       "      <th>avg_rating</th>\n",
       "      <th>total_views</th>\n",
       "      <th>total_votes</th>\n",
       "      <th>type</th>\n",
       "      <th>dir</th>\n",
       "      <th>n_chapters</th>\n",
       "      <th>id</th>\n",
       "    </tr>\n",
       "  </thead>\n",
       "  <tbody>\n",
       "    <tr>\n",
       "      <th>7</th>\n",
       "      <td>Архимаг, который вернулся спустя 4000 лет</td>\n",
       "      <td>The archmage who returned after 4000 years</td>\n",
       "      <td>2020.0</td>\n",
       "      <td>9.0</td>\n",
       "      <td>3786103</td>\n",
       "      <td>684219</td>\n",
       "      <td>Манхва</td>\n",
       "      <td>the-archmage-who-returned-after-4000-years</td>\n",
       "      <td>82</td>\n",
       "      <td>7</td>\n",
       "    </tr>\n",
       "    <tr>\n",
       "      <th>28</th>\n",
       "      <td>Я убил Бессмертного</td>\n",
       "      <td>I Killed The Immortal</td>\n",
       "      <td>2021.0</td>\n",
       "      <td>9.1</td>\n",
       "      <td>74032</td>\n",
       "      <td>17948</td>\n",
       "      <td>Рукомикс</td>\n",
       "      <td>i-killed-the-immortal</td>\n",
       "      <td>3</td>\n",
       "      <td>28</td>\n",
       "    </tr>\n",
       "    <tr>\n",
       "      <th>29</th>\n",
       "      <td>Раб \"Б\" ранга</td>\n",
       "      <td>\"B\" rank slave</td>\n",
       "      <td>2020.0</td>\n",
       "      <td>7.9</td>\n",
       "      <td>1715203</td>\n",
       "      <td>290731</td>\n",
       "      <td>Манхва</td>\n",
       "      <td>b-rank-slave</td>\n",
       "      <td>58</td>\n",
       "      <td>29</td>\n",
       "    </tr>\n",
       "    <tr>\n",
       "      <th>36</th>\n",
       "      <td>Во всеоружии</td>\n",
       "      <td>Overgeared (Пак Сэналь)</td>\n",
       "      <td>2020.0</td>\n",
       "      <td>9.1</td>\n",
       "      <td>1908919</td>\n",
       "      <td>351136</td>\n",
       "      <td>Манхва</td>\n",
       "      <td>overgeared--</td>\n",
       "      <td>76</td>\n",
       "      <td>36</td>\n",
       "    </tr>\n",
       "    <tr>\n",
       "      <th>50</th>\n",
       "      <td>Призванный в параллельные фэнтези миры несколь...</td>\n",
       "      <td>Summoned to a parallel fantasy world many times</td>\n",
       "      <td>2020.0</td>\n",
       "      <td>9.4</td>\n",
       "      <td>285534</td>\n",
       "      <td>59425</td>\n",
       "      <td>Манга</td>\n",
       "      <td>summoned-to-a-parallel-fantasy-world-many-times</td>\n",
       "      <td>10</td>\n",
       "      <td>50</td>\n",
       "    </tr>\n",
       "    <tr>\n",
       "      <th>...</th>\n",
       "      <td>...</td>\n",
       "      <td>...</td>\n",
       "      <td>...</td>\n",
       "      <td>...</td>\n",
       "      <td>...</td>\n",
       "      <td>...</td>\n",
       "      <td>...</td>\n",
       "      <td>...</td>\n",
       "      <td>...</td>\n",
       "      <td>...</td>\n",
       "    </tr>\n",
       "    <tr>\n",
       "      <th>16607</th>\n",
       "      <td>Мой парень в опасности</td>\n",
       "      <td>Boyfriend is dangerous</td>\n",
       "      <td>2019.0</td>\n",
       "      <td>0.0</td>\n",
       "      <td>0</td>\n",
       "      <td>0</td>\n",
       "      <td>Манхва</td>\n",
       "      <td>boyfriend-is-dangerous</td>\n",
       "      <td>0</td>\n",
       "      <td>16607</td>\n",
       "    </tr>\n",
       "    <tr>\n",
       "      <th>16635</th>\n",
       "      <td>Незабудка</td>\n",
       "      <td>Forget-me-not (Obata Yuuki)</td>\n",
       "      <td>2012.0</td>\n",
       "      <td>0.0</td>\n",
       "      <td>148</td>\n",
       "      <td>7</td>\n",
       "      <td>Манга</td>\n",
       "      <td>forgetmenot-obata-yuuki</td>\n",
       "      <td>7</td>\n",
       "      <td>16635</td>\n",
       "    </tr>\n",
       "    <tr>\n",
       "      <th>16672</th>\n",
       "      <td>Моя Дорогая Наложница</td>\n",
       "      <td>My Dear Concubine</td>\n",
       "      <td>2020.0</td>\n",
       "      <td>0.0</td>\n",
       "      <td>0</td>\n",
       "      <td>0</td>\n",
       "      <td>Маньхуа</td>\n",
       "      <td>my-dear-concubine</td>\n",
       "      <td>0</td>\n",
       "      <td>16672</td>\n",
       "    </tr>\n",
       "    <tr>\n",
       "      <th>16850</th>\n",
       "      <td>Фея-полукровка</td>\n",
       "      <td>1|2 Fairy!</td>\n",
       "      <td>1985.0</td>\n",
       "      <td>0.0</td>\n",
       "      <td>55</td>\n",
       "      <td>0</td>\n",
       "      <td>Манга</td>\n",
       "      <td>12-fairy</td>\n",
       "      <td>3</td>\n",
       "      <td>16850</td>\n",
       "    </tr>\n",
       "    <tr>\n",
       "      <th>16876</th>\n",
       "      <td>Козырь!</td>\n",
       "      <td>TRUMP!(JUNG Hyun-Joo)</td>\n",
       "      <td>2008.0</td>\n",
       "      <td>0.0</td>\n",
       "      <td>605</td>\n",
       "      <td>0</td>\n",
       "      <td>Манхва</td>\n",
       "      <td>trumpjung-hyunjoo</td>\n",
       "      <td>16</td>\n",
       "      <td>16876</td>\n",
       "    </tr>\n",
       "  </tbody>\n",
       "</table>\n",
       "<p>3509 rows × 10 columns</p>\n",
       "</div>"
      ],
      "text/plain": [
       "                                                rus_name  \\\n",
       "7              Архимаг, который вернулся спустя 4000 лет   \n",
       "28                                   Я убил Бессмертного   \n",
       "29                                         Раб \"Б\" ранга   \n",
       "36                                          Во всеоружии   \n",
       "50     Призванный в параллельные фэнтези миры несколь...   \n",
       "...                                                  ...   \n",
       "16607                             Мой парень в опасности   \n",
       "16635                                          Незабудка   \n",
       "16672                              Моя Дорогая Наложница   \n",
       "16850                                     Фея-полукровка   \n",
       "16876                                            Козырь!   \n",
       "\n",
       "                                               en_name  issue_year  \\\n",
       "7           The archmage who returned after 4000 years      2020.0   \n",
       "28                               I Killed The Immortal      2021.0   \n",
       "29                                      \"B\" rank slave      2020.0   \n",
       "36                             Overgeared (Пак Сэналь)      2020.0   \n",
       "50     Summoned to a parallel fantasy world many times      2020.0   \n",
       "...                                                ...         ...   \n",
       "16607                           Boyfriend is dangerous      2019.0   \n",
       "16635                      Forget-me-not (Obata Yuuki)      2012.0   \n",
       "16672                                My Dear Concubine      2020.0   \n",
       "16850                                       1|2 Fairy!      1985.0   \n",
       "16876                            TRUMP!(JUNG Hyun-Joo)      2008.0   \n",
       "\n",
       "       avg_rating  total_views  total_votes      type  \\\n",
       "7             9.0      3786103       684219    Манхва   \n",
       "28            9.1        74032        17948  Рукомикс   \n",
       "29            7.9      1715203       290731    Манхва   \n",
       "36            9.1      1908919       351136    Манхва   \n",
       "50            9.4       285534        59425     Манга   \n",
       "...           ...          ...          ...       ...   \n",
       "16607         0.0            0            0    Манхва   \n",
       "16635         0.0          148            7     Манга   \n",
       "16672         0.0            0            0   Маньхуа   \n",
       "16850         0.0           55            0     Манга   \n",
       "16876         0.0          605            0    Манхва   \n",
       "\n",
       "                                                   dir  n_chapters     id  \n",
       "7           the-archmage-who-returned-after-4000-years          82      7  \n",
       "28                               i-killed-the-immortal           3     28  \n",
       "29                                        b-rank-slave          58     29  \n",
       "36                                        overgeared--          76     36  \n",
       "50     summoned-to-a-parallel-fantasy-world-many-times          10     50  \n",
       "...                                                ...         ...    ...  \n",
       "16607                           boyfriend-is-dangerous           0  16607  \n",
       "16635                          forgetmenot-obata-yuuki           7  16635  \n",
       "16672                                my-dear-concubine           0  16672  \n",
       "16850                                         12-fairy           3  16850  \n",
       "16876                                trumpjung-hyunjoo          16  16876  \n",
       "\n",
       "[3509 rows x 10 columns]"
      ]
     },
     "execution_count": 21,
     "metadata": {},
     "output_type": "execute_result"
    }
   ],
   "source": [
    "remanga[~remanga.id.isin(remanga_matched_ids)]"
   ]
  },
  {
   "cell_type": "code",
   "execution_count": 22,
   "metadata": {},
   "outputs": [
    {
     "data": {
      "text/plain": [
       "0.2076454228060832"
      ]
     },
     "execution_count": 22,
     "metadata": {},
     "output_type": "execute_result"
    }
   ],
   "source": [
    "len(remanga[~remanga.id.isin(remanga_matched_ids)]) / len(remanga)"
   ]
  },
  {
   "cell_type": "code",
   "execution_count": 23,
   "metadata": {},
   "outputs": [],
   "source": [
    "# len(rm_views_missing[rm_views_missing>100000]) / len(rm_views_missing)"
   ]
  },
  {
   "cell_type": "code",
   "execution_count": 24,
   "metadata": {},
   "outputs": [
    {
     "data": {
      "text/plain": [
       "<matplotlib.legend.Legend at 0x7f7235f7eb00>"
      ]
     },
     "execution_count": 24,
     "metadata": {},
     "output_type": "execute_result"
    },
    {
     "data": {
      "image/png": "[encoded data removed]",
      "text/plain": [
       "<Figure size 432x288 with 1 Axes>"
      ]
     },
     "metadata": {
      "needs_background": "light"
     },
     "output_type": "display_data"
    }
   ],
   "source": [
    "rm_views_missing = remanga[~remanga.id.isin(remanga_matched_ids)].total_views\n",
    "rm_views_matched = remanga[ remanga.id.isin(remanga_matched_ids)].total_views\n",
    "n = 5000\n",
    "rm_views_missing[rm_views_missing < n].hist(bins=100, alpha=0.5)\n",
    "rm_views_matched[rm_views_matched < n].hist(bins=100, alpha=0.5)\n",
    "plt.legend(['missing', 'matched'])"
   ]
  },
  {
   "cell_type": "code",
   "execution_count": 25,
   "metadata": {},
   "outputs": [],
   "source": [
    "remanga[~remanga.id.isin(remanga_matched_ids)].to_csv('./data/missing/remanga_exclusive.csv', sep=';')"
   ]
  },
  {
   "cell_type": "code",
   "execution_count": 26,
   "metadata": {},
   "outputs": [],
   "source": [
    "mangalib_matched_ids = []\n",
    "mangalib_matched_ids += fetch_valid_ixs(gmanga_matched, 'mangalib_id')\n",
    "mangalib_matched_ids += fetch_valid_ixs(gmint_matched, 'mangalib_id')\n",
    "mangalib_matched_ids += fetch_valid_ixs(selfmanga_matched, 'mangalib_id')"
   ]
  },
  {
   "cell_type": "code",
   "execution_count": 27,
   "metadata": {},
   "outputs": [
    {
     "data": {
      "text/html": [
       "<div>\n",
       "<style scoped>\n",
       "    .dataframe tbody tr th:only-of-type {\n",
       "        vertical-align: middle;\n",
       "    }\n",
       "\n",
       "    .dataframe tbody tr th {\n",
       "        vertical-align: top;\n",
       "    }\n",
       "\n",
       "    .dataframe thead th {\n",
       "        text-align: right;\n",
       "    }\n",
       "</style>\n",
       "<table border=\"1\" class=\"dataframe\">\n",
       "  <thead>\n",
       "    <tr style=\"text-align: right;\">\n",
       "      <th></th>\n",
       "      <th>id</th>\n",
       "      <th>link</th>\n",
       "      <th>data_id</th>\n",
       "      <th>manga_type</th>\n",
       "      <th>name</th>\n",
       "    </tr>\n",
       "  </thead>\n",
       "  <tbody>\n",
       "    <tr>\n",
       "      <th>2</th>\n",
       "      <td>2</td>\n",
       "      <td>poidyom-gulyat</td>\n",
       "      <td>67688</td>\n",
       "      <td>Руманга</td>\n",
       "      <td>Пойдём гулять!</td>\n",
       "    </tr>\n",
       "    <tr>\n",
       "      <th>8</th>\n",
       "      <td>8</td>\n",
       "      <td>bastard-hwang-youngchan</td>\n",
       "      <td>2035</td>\n",
       "      <td>Манхва</td>\n",
       "      <td>Сволочь</td>\n",
       "    </tr>\n",
       "    <tr>\n",
       "      <th>9</th>\n",
       "      <td>9</td>\n",
       "      <td>ranker-who-lives-a-second-time</td>\n",
       "      <td>12478</td>\n",
       "      <td>Манхва</td>\n",
       "      <td>Ранкер, который живет второй раз</td>\n",
       "    </tr>\n",
       "    <tr>\n",
       "      <th>11</th>\n",
       "      <td>11</td>\n",
       "      <td>nan-hao-shang-feng</td>\n",
       "      <td>18406</td>\n",
       "      <td>Маньхуа</td>\n",
       "      <td>Нань Хао и Шан Фэнь</td>\n",
       "    </tr>\n",
       "    <tr>\n",
       "      <th>19</th>\n",
       "      <td>19</td>\n",
       "      <td>agnyeoneun-molaesigyeleul-doedollinda-manhwa</td>\n",
       "      <td>24548</td>\n",
       "      <td>Манхва</td>\n",
       "      <td>Злодейка, перевернувшая песочные часы</td>\n",
       "    </tr>\n",
       "    <tr>\n",
       "      <th>...</th>\n",
       "      <td>...</td>\n",
       "      <td>...</td>\n",
       "      <td>...</td>\n",
       "      <td>...</td>\n",
       "      <td>...</td>\n",
       "    </tr>\n",
       "    <tr>\n",
       "      <th>1787</th>\n",
       "      <td>1787</td>\n",
       "      <td>great-sword</td>\n",
       "      <td>13710</td>\n",
       "      <td>Маньхуа</td>\n",
       "      <td>Легендарный бог меча</td>\n",
       "    </tr>\n",
       "    <tr>\n",
       "      <th>1788</th>\n",
       "      <td>1788</td>\n",
       "      <td>haikyuu-dj-ano-machi-ni-sunderu-karera-no-koto...</td>\n",
       "      <td>8833</td>\n",
       "      <td>Манга</td>\n",
       "      <td>О тех, кто живет в том городе</td>\n",
       "    </tr>\n",
       "    <tr>\n",
       "      <th>1793</th>\n",
       "      <td>1793</td>\n",
       "      <td>zhi-zun-kuang-di-xi-tong</td>\n",
       "      <td>35272</td>\n",
       "      <td>Маньхуа</td>\n",
       "      <td>Система Верховного  Императора</td>\n",
       "    </tr>\n",
       "    <tr>\n",
       "      <th>1796</th>\n",
       "      <td>1796</td>\n",
       "      <td>my-fiance-is-in-love-with-my-little-sister</td>\n",
       "      <td>31862</td>\n",
       "      <td>Манга</td>\n",
       "      <td>Мой жених влюбился в мою младшую сестру</td>\n",
       "    </tr>\n",
       "    <tr>\n",
       "      <th>1797</th>\n",
       "      <td>1797</td>\n",
       "      <td>shwihyangjeogyeog-geunyeo</td>\n",
       "      <td>32161</td>\n",
       "      <td>Манхва</td>\n",
       "      <td>Она в моем вкусе</td>\n",
       "    </tr>\n",
       "  </tbody>\n",
       "</table>\n",
       "<p>428 rows × 5 columns</p>\n",
       "</div>"
      ],
      "text/plain": [
       "        id                                               link  data_id  \\\n",
       "2        2                                     poidyom-gulyat    67688   \n",
       "8        8                            bastard-hwang-youngchan     2035   \n",
       "9        9                     ranker-who-lives-a-second-time    12478   \n",
       "11      11                                 nan-hao-shang-feng    18406   \n",
       "19      19       agnyeoneun-molaesigyeleul-doedollinda-manhwa    24548   \n",
       "...    ...                                                ...      ...   \n",
       "1787  1787                                        great-sword    13710   \n",
       "1788  1788  haikyuu-dj-ano-machi-ni-sunderu-karera-no-koto...     8833   \n",
       "1793  1793                           zhi-zun-kuang-di-xi-tong    35272   \n",
       "1796  1796         my-fiance-is-in-love-with-my-little-sister    31862   \n",
       "1797  1797                          shwihyangjeogyeog-geunyeo    32161   \n",
       "\n",
       "     manga_type                                     name  \n",
       "2       Руманга                           Пойдём гулять!  \n",
       "8        Манхва                                  Сволочь  \n",
       "9        Манхва         Ранкер, который живет второй раз  \n",
       "11      Маньхуа                      Нань Хао и Шан Фэнь  \n",
       "19       Манхва    Злодейка, перевернувшая песочные часы  \n",
       "...         ...                                      ...  \n",
       "1787    Маньхуа                     Легендарный бог меча  \n",
       "1788      Манга            О тех, кто живет в том городе  \n",
       "1793    Маньхуа           Система Верховного  Императора  \n",
       "1796      Манга  Мой жених влюбился в мою младшую сестру  \n",
       "1797     Манхва                         Она в моем вкусе  \n",
       "\n",
       "[428 rows x 5 columns]"
      ]
     },
     "execution_count": 27,
     "metadata": {},
     "output_type": "execute_result"
    }
   ],
   "source": [
    "mangalib[~mangalib.id.isin(mangalib_matched_ids)]"
   ]
  },
  {
   "cell_type": "code",
   "execution_count": 28,
   "metadata": {},
   "outputs": [
    {
     "data": {
      "text/plain": [
       "0.23777777777777778"
      ]
     },
     "execution_count": 28,
     "metadata": {},
     "output_type": "execute_result"
    }
   ],
   "source": [
    "len(mangalib[~mangalib.id.isin(mangalib_matched_ids)]) / len(mangalib)"
   ]
  },
  {
   "cell_type": "code",
   "execution_count": 29,
   "metadata": {},
   "outputs": [],
   "source": [
    "mangalib[~mangalib.id.isin(mangalib_matched_ids)].to_csv('./data/missing/mangalib_exclusive.csv', sep=';')"
   ]
  },
  {
   "cell_type": "code",
   "execution_count": 30,
   "metadata": {},
   "outputs": [],
   "source": [
    "# add number of remanga chapters\n",
    "# read\n",
    "cond = ~gmanga_matched.remanga_id.isna()\n",
    "remanga_ids = gmanga_matched.loc[cond].remanga_id.astype(int)\n",
    "gmanga_matched.loc[cond, 'remanga_chapters_n'] = remanga.set_index('id').loc[remanga_ids].n_chapters.tolist()\n",
    "\n",
    "# mint\n",
    "cond = ~gmint_matched.remanga_id.isna()\n",
    "remanga_ids = gmint_matched.loc[cond].remanga_id.astype(int)\n",
    "gmint_matched.loc[cond, 'remanga_chapters_n'] = remanga.set_index('id').loc[remanga_ids].n_chapters.tolist()"
   ]
  },
  {
   "cell_type": "code",
   "execution_count": 32,
   "metadata": {},
   "outputs": [],
   "source": [
    "chapters_n = gmanga_matched[['chapters_count', 'remanga_chapters_n']]\n",
    "chapters_n = chapters_n[(chapters_n['chapters_count'].apply(is_num)) & \n",
    "                        (chapters_n['remanga_chapters_n'].apply(is_num))].astype(float)\n",
    "\n",
    "chapters_n_mint = gmint_matched[['chapters_count', 'remanga_chapters_n']]\n",
    "chapters_n_mint = chapters_n_mint[(chapters_n_mint['chapters_count'].apply(is_num)) & \n",
    "                                  (chapters_n_mint['remanga_chapters_n'].apply(is_num))].astype(float)\n",
    "\n",
    "chapters_n = pd.concat((chapters_n, chapters_n_mint))"
   ]
  },
  {
   "cell_type": "code",
   "execution_count": null,
   "metadata": {},
   "outputs": [],
   "source": []
  },
  {
   "cell_type": "code",
   "execution_count": 33,
   "metadata": {},
   "outputs": [
    {
     "data": {
      "image/png": "[encoded data removed]",
      "text/plain": [
       "<Figure size 432x288 with 1 Axes>"
      ]
     },
     "metadata": {
      "needs_background": "light"
     },
     "output_type": "display_data"
    }
   ],
   "source": [
    "chapters_diff = chapters_n['chapters_count'] - chapters_n['remanga_chapters_n']\n",
    "CHAPTERS_DIFF = 0\n",
    "chapters_diff[abs(chapters_diff)>=CHAPTERS_DIFF].hist(bins=100, rwidth=0.9)\n",
    "plt.suptitle('Разница в главах между grouple и остальными')\n",
    "plt.xlabel('Разница')\n",
    "plt.ylabel('Количество тайтлов')\n",
    "plt.savefig('pics/chapters_diff.png')"
   ]
  },
  {
   "cell_type": "code",
   "execution_count": 34,
   "metadata": {},
   "outputs": [
    {
     "data": {
      "image/png": "[encoded data removed]",
      "text/plain": [
       "<Figure size 432x288 with 1 Axes>"
      ]
     },
     "metadata": {
      "needs_background": "light"
     },
     "output_type": "display_data"
    }
   ],
   "source": [
    "CHAPTERS_DIFF = 0\n",
    "chapters_diff[abs(chapters_diff)>=CHAPTERS_DIFF].hist(bins=50, rwidth=0.7)\n",
    "plt.ylim(0, 90)\n",
    "plt.suptitle('Разница в главах между grouple и остальными, детализация')\n",
    "plt.xlabel('Разница')\n",
    "plt.ylabel('Количество тайтлов')\n",
    "plt.savefig('pics/chapters_diff_detailed.png')"
   ]
  },
  {
   "cell_type": "code",
   "execution_count": 37,
   "metadata": {},
   "outputs": [
    {
     "data": {
      "text/html": [
       "<div>\n",
       "<style scoped>\n",
       "    .dataframe tbody tr th:only-of-type {\n",
       "        vertical-align: middle;\n",
       "    }\n",
       "\n",
       "    .dataframe tbody tr th {\n",
       "        vertical-align: top;\n",
       "    }\n",
       "\n",
       "    .dataframe thead th {\n",
       "        text-align: right;\n",
       "    }\n",
       "</style>\n",
       "<table border=\"1\" class=\"dataframe\">\n",
       "  <thead>\n",
       "    <tr style=\"text-align: right;\">\n",
       "      <th></th>\n",
       "      <th>id</th>\n",
       "      <th>name</th>\n",
       "      <th>eng_name</th>\n",
       "      <th>original_name</th>\n",
       "      <th>another_names</th>\n",
       "      <th>chapters_count</th>\n",
       "      <th>remanga_id</th>\n",
       "      <th>mangalib_id</th>\n",
       "      <th>remanga_chapters_n</th>\n",
       "      <th>chapters_diff</th>\n",
       "    </tr>\n",
       "  </thead>\n",
       "  <tbody>\n",
       "    <tr>\n",
       "      <th>0</th>\n",
       "      <td>1</td>\n",
       "      <td>Ван Пис</td>\n",
       "      <td>One Piece</td>\n",
       "      <td>One Piece</td>\n",
       "      <td>Budak Getah / Большой Куш / ワンピース / Один Кусок</td>\n",
       "      <td>1028</td>\n",
       "      <td>489.0</td>\n",
       "      <td>85.0</td>\n",
       "      <td>997.0</td>\n",
       "      <td>-31.0</td>\n",
       "    </tr>\n",
       "    <tr>\n",
       "      <th>1</th>\n",
       "      <td>2</td>\n",
       "      <td>Наруто</td>\n",
       "      <td>Naruto</td>\n",
       "      <td>Naruto</td>\n",
       "      <td>ナルト</td>\n",
       "      <td>704</td>\n",
       "      <td>507.0</td>\n",
       "      <td>130.0</td>\n",
       "      <td>704.0</td>\n",
       "      <td>0.0</td>\n",
       "    </tr>\n",
       "    <tr>\n",
       "      <th>2</th>\n",
       "      <td>3</td>\n",
       "      <td>Крутой учитель Онидзука</td>\n",
       "      <td>Great Teacher Onizuka</td>\n",
       "      <td>GTO</td>\n",
       "      <td>ジー ティー オー / Великий учитель Онизука</td>\n",
       "      <td>201</td>\n",
       "      <td>1500.0</td>\n",
       "      <td>NaN</td>\n",
       "      <td>201.0</td>\n",
       "      <td>0.0</td>\n",
       "    </tr>\n",
       "  </tbody>\n",
       "</table>\n",
       "</div>"
      ],
      "text/plain": [
       "   id                     name               eng_name original_name  \\\n",
       "0   1                  Ван Пис              One Piece     One Piece   \n",
       "1   2                   Наруто                 Naruto        Naruto   \n",
       "2   3  Крутой учитель Онидзука  Great Teacher Onizuka           GTO   \n",
       "\n",
       "                                    another_names  chapters_count  remanga_id  \\\n",
       "0  Budak Getah / Большой Куш / ワンピース / Один Кусок            1028       489.0   \n",
       "1                                             ナルト             704       507.0   \n",
       "2             ジー ティー オー / Великий учитель Онизука             201      1500.0   \n",
       "\n",
       "   mangalib_id  remanga_chapters_n  chapters_diff  \n",
       "0         85.0               997.0          -31.0  \n",
       "1        130.0               704.0            0.0  \n",
       "2          NaN               201.0            0.0  "
      ]
     },
     "execution_count": 37,
     "metadata": {},
     "output_type": "execute_result"
    }
   ],
   "source": [
    "safe_cast = lambda s: None if not is_num(s) else float(s)\n",
    "# gmanga_matched = gmanga_matched[gmanga_matched.,?]\n",
    "gmanga_matched.loc[:, 'chapters_diff'] = gmanga_matched['remanga_chapters_n'].apply(safe_cast) - gmanga_matched['chapters_count'].apply(safe_cast)\n",
    "gmanga_matched.to_csv('data/chapters_diff/gmanga_chapters_diff.csv', sep=';', index=False)\n",
    "gmanga_matched.head(3)"
   ]
  },
  {
   "cell_type": "code",
   "execution_count": 38,
   "metadata": {},
   "outputs": [
    {
     "data": {
      "text/html": [
       "<div>\n",
       "<style scoped>\n",
       "    .dataframe tbody tr th:only-of-type {\n",
       "        vertical-align: middle;\n",
       "    }\n",
       "\n",
       "    .dataframe tbody tr th {\n",
       "        vertical-align: top;\n",
       "    }\n",
       "\n",
       "    .dataframe thead th {\n",
       "        text-align: right;\n",
       "    }\n",
       "</style>\n",
       "<table border=\"1\" class=\"dataframe\">\n",
       "  <thead>\n",
       "    <tr style=\"text-align: right;\">\n",
       "      <th></th>\n",
       "      <th>id</th>\n",
       "      <th>name</th>\n",
       "      <th>eng_name</th>\n",
       "      <th>original_name</th>\n",
       "      <th>another_names</th>\n",
       "      <th>chapters_count</th>\n",
       "      <th>remanga_id</th>\n",
       "      <th>mangalib_id</th>\n",
       "      <th>remanga_chapters_n</th>\n",
       "      <th>chapters_diff</th>\n",
       "    </tr>\n",
       "  </thead>\n",
       "  <tbody>\n",
       "    <tr>\n",
       "      <th>0</th>\n",
       "      <td>11</td>\n",
       "      <td>Денег нет!</td>\n",
       "      <td>No money</td>\n",
       "      <td>Okane ga nai</td>\n",
       "      <td>お金がないっ / 午夜情深 / 没有钱</td>\n",
       "      <td>116</td>\n",
       "      <td>9766.0</td>\n",
       "      <td>NaN</td>\n",
       "      <td>23.0</td>\n",
       "      <td>-93.0</td>\n",
       "    </tr>\n",
       "    <tr>\n",
       "      <th>1</th>\n",
       "      <td>18</td>\n",
       "      <td>Проклятие цвета крови</td>\n",
       "      <td>Crimson Spell</td>\n",
       "      <td>Crimson Spell</td>\n",
       "      <td>Kurimuzon Superu/クリムゾン・スペル/緋紅色的魔咒/緋色誘惑</td>\n",
       "      <td>75</td>\n",
       "      <td>10537.0</td>\n",
       "      <td>NaN</td>\n",
       "      <td>76.0</td>\n",
       "      <td>1.0</td>\n",
       "    </tr>\n",
       "    <tr>\n",
       "      <th>2</th>\n",
       "      <td>19</td>\n",
       "      <td>Ганц</td>\n",
       "      <td>Gantz</td>\n",
       "      <td>Gantz</td>\n",
       "      <td>ガンツ</td>\n",
       "      <td>385</td>\n",
       "      <td>543.0</td>\n",
       "      <td>NaN</td>\n",
       "      <td>384.0</td>\n",
       "      <td>-1.0</td>\n",
       "    </tr>\n",
       "  </tbody>\n",
       "</table>\n",
       "</div>"
      ],
      "text/plain": [
       "   id                   name       eng_name  original_name  \\\n",
       "0  11             Денег нет!       No money   Okane ga nai   \n",
       "1  18  Проклятие цвета крови  Crimson Spell  Crimson Spell   \n",
       "2  19                   Ганц          Gantz          Gantz   \n",
       "\n",
       "                            another_names  chapters_count  remanga_id  \\\n",
       "0                     お金がないっ / 午夜情深 / 没有钱             116      9766.0   \n",
       "1  Kurimuzon Superu/クリムゾン・スペル/緋紅色的魔咒/緋色誘惑              75     10537.0   \n",
       "2                                     ガンツ             385       543.0   \n",
       "\n",
       "   mangalib_id  remanga_chapters_n  chapters_diff  \n",
       "0          NaN                23.0          -93.0  \n",
       "1          NaN                76.0            1.0  \n",
       "2          NaN               384.0           -1.0  "
      ]
     },
     "execution_count": 38,
     "metadata": {},
     "output_type": "execute_result"
    }
   ],
   "source": [
    "gmint_matched.loc[:, 'chapters_diff'] = gmint_matched['remanga_chapters_n'].apply(safe_cast) - gmint_matched['chapters_count'].apply(safe_cast)\n",
    "gmint_matched.to_csv('data/chapters_diff/gmint_chapters_diff.csv', sep=';', index=False)\n",
    "gmint_matched.head(3)"
   ]
  },
  {
   "cell_type": "code",
   "execution_count": null,
   "metadata": {},
   "outputs": [],
   "source": []
  }
 ],
 "metadata": {
  "kernelspec": {
   "display_name": "Python 3",
   "language": "python",
   "name": "python3"
  },
  "language_info": {
   "codemirror_mode": {
    "name": "ipython",
    "version": 3
   },
   "file_extension": ".py",
   "mimetype": "text/x-python",
   "name": "python",
   "nbconvert_exporter": "python",
   "pygments_lexer": "ipython3",
   "version": "3.6.9"
  }
 },
 "nbformat": 4,
 "nbformat_minor": 4
}
