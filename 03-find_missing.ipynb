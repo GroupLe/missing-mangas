{
 "cells": [
  {
   "cell_type": "code",
   "execution_count": 1,
   "metadata": {},
   "outputs": [],
   "source": [
    "import pandas as pd\n",
    "from tqdm.notebook import tqdm\n",
    "import matplotlib.pyplot as plt"
   ]
  },
  {
   "cell_type": "code",
   "execution_count": 2,
   "metadata": {},
   "outputs": [],
   "source": [
    "remanga = pd.read_csv('./data/raw/remanga_catalog_full.csv')\n",
    "mangalib = pd.read_csv('./data/raw/mangalib_catalog_titles.csv')\n",
    "gmanga_matched = pd.read_csv('data/gmanga_matched_remanga_mangalib_ids.csv', sep=';')\n",
    "gmint_matched = pd.read_csv('data/gmint_matched_remanga_mangalib_ids.csv', sep=';')"
   ]
  },
  {
   "cell_type": "code",
   "execution_count": 3,
   "metadata": {},
   "outputs": [],
   "source": [
    "remanga.loc[:, 'id'] = list(range(len(remanga)))"
   ]
  },
  {
   "cell_type": "code",
   "execution_count": 4,
   "metadata": {},
   "outputs": [
    {
     "data": {
      "text/html": [
       "<div>\n",
       "<style scoped>\n",
       "    .dataframe tbody tr th:only-of-type {\n",
       "        vertical-align: middle;\n",
       "    }\n",
       "\n",
       "    .dataframe tbody tr th {\n",
       "        vertical-align: top;\n",
       "    }\n",
       "\n",
       "    .dataframe thead th {\n",
       "        text-align: right;\n",
       "    }\n",
       "</style>\n",
       "<table border=\"1\" class=\"dataframe\">\n",
       "  <thead>\n",
       "    <tr style=\"text-align: right;\">\n",
       "      <th></th>\n",
       "      <th>Unnamed: 0</th>\n",
       "      <th>id</th>\n",
       "      <th>name</th>\n",
       "      <th>eng_name</th>\n",
       "      <th>original_name</th>\n",
       "      <th>another_names</th>\n",
       "      <th>chapters_count</th>\n",
       "      <th>remanga_id</th>\n",
       "      <th>remanga_id_1</th>\n",
       "      <th>n_duplicates_remanga</th>\n",
       "      <th>remanga_id_2</th>\n",
       "      <th>remanga_id_3</th>\n",
       "      <th>mangalib_id</th>\n",
       "      <th>mangalib_id_1</th>\n",
       "      <th>n_duplicates_mangalib</th>\n",
       "    </tr>\n",
       "  </thead>\n",
       "  <tbody>\n",
       "    <tr>\n",
       "      <th>0</th>\n",
       "      <td>0</td>\n",
       "      <td>1</td>\n",
       "      <td>Ван Пис</td>\n",
       "      <td>One Piece</td>\n",
       "      <td>One Piece</td>\n",
       "      <td>Budak Getah / Большой Куш / ワンピース / Один Кусок</td>\n",
       "      <td>1028</td>\n",
       "      <td>489.0</td>\n",
       "      <td>NaN</td>\n",
       "      <td>NaN</td>\n",
       "      <td>NaN</td>\n",
       "      <td>NaN</td>\n",
       "      <td>85.0</td>\n",
       "      <td>NaN</td>\n",
       "      <td>NaN</td>\n",
       "    </tr>\n",
       "    <tr>\n",
       "      <th>1</th>\n",
       "      <td>1</td>\n",
       "      <td>2</td>\n",
       "      <td>Наруто</td>\n",
       "      <td>Naruto</td>\n",
       "      <td>Naruto</td>\n",
       "      <td>ナルト</td>\n",
       "      <td>704</td>\n",
       "      <td>507.0</td>\n",
       "      <td>NaN</td>\n",
       "      <td>NaN</td>\n",
       "      <td>NaN</td>\n",
       "      <td>NaN</td>\n",
       "      <td>130.0</td>\n",
       "      <td>NaN</td>\n",
       "      <td>NaN</td>\n",
       "    </tr>\n",
       "  </tbody>\n",
       "</table>\n",
       "</div>"
      ],
      "text/plain": [
       "  Unnamed: 0  id     name   eng_name original_name  \\\n",
       "0          0   1  Ван Пис  One Piece     One Piece   \n",
       "1          1   2   Наруто     Naruto        Naruto   \n",
       "\n",
       "                                    another_names  chapters_count  remanga_id  \\\n",
       "0  Budak Getah / Большой Куш / ワンピース / Один Кусок            1028       489.0   \n",
       "1                                             ナルト             704       507.0   \n",
       "\n",
       "   remanga_id_1  n_duplicates_remanga  remanga_id_2  remanga_id_3  \\\n",
       "0           NaN                   NaN           NaN           NaN   \n",
       "1           NaN                   NaN           NaN           NaN   \n",
       "\n",
       "   mangalib_id  mangalib_id_1  n_duplicates_mangalib  \n",
       "0         85.0            NaN                    NaN  \n",
       "1        130.0            NaN                    NaN  "
      ]
     },
     "execution_count": 4,
     "metadata": {},
     "output_type": "execute_result"
    }
   ],
   "source": [
    "gmanga_matched.head(2)"
   ]
  },
  {
   "cell_type": "code",
   "execution_count": 5,
   "metadata": {},
   "outputs": [
    {
     "data": {
      "text/html": [
       "<div>\n",
       "<style scoped>\n",
       "    .dataframe tbody tr th:only-of-type {\n",
       "        vertical-align: middle;\n",
       "    }\n",
       "\n",
       "    .dataframe tbody tr th {\n",
       "        vertical-align: top;\n",
       "    }\n",
       "\n",
       "    .dataframe thead th {\n",
       "        text-align: right;\n",
       "    }\n",
       "</style>\n",
       "<table border=\"1\" class=\"dataframe\">\n",
       "  <thead>\n",
       "    <tr style=\"text-align: right;\">\n",
       "      <th></th>\n",
       "      <th>id</th>\n",
       "      <th>name</th>\n",
       "      <th>eng_name</th>\n",
       "      <th>original_name</th>\n",
       "      <th>another_names</th>\n",
       "      <th>chapters_count</th>\n",
       "      <th>remanga_id</th>\n",
       "      <th>remanga_id_1</th>\n",
       "      <th>n_duplicates</th>\n",
       "      <th>mangalib_id</th>\n",
       "      <th>mangalib_id_1</th>\n",
       "      <th>n_duplicates_mangalib</th>\n",
       "    </tr>\n",
       "  </thead>\n",
       "  <tbody>\n",
       "    <tr>\n",
       "      <th>0</th>\n",
       "      <td>11</td>\n",
       "      <td>Денег нет!</td>\n",
       "      <td>No money</td>\n",
       "      <td>Okane ga nai</td>\n",
       "      <td>お金がないっ / 午夜情深 / 没有钱</td>\n",
       "      <td>116</td>\n",
       "      <td>9766.0</td>\n",
       "      <td>NaN</td>\n",
       "      <td>NaN</td>\n",
       "      <td>NaN</td>\n",
       "      <td>NaN</td>\n",
       "      <td>NaN</td>\n",
       "    </tr>\n",
       "    <tr>\n",
       "      <th>1</th>\n",
       "      <td>18</td>\n",
       "      <td>Проклятие цвета крови</td>\n",
       "      <td>Crimson Spell</td>\n",
       "      <td>Crimson Spell</td>\n",
       "      <td>Kurimuzon Superu/クリムゾン・スペル/緋紅色的魔咒/緋色誘惑</td>\n",
       "      <td>75</td>\n",
       "      <td>10537.0</td>\n",
       "      <td>NaN</td>\n",
       "      <td>NaN</td>\n",
       "      <td>NaN</td>\n",
       "      <td>NaN</td>\n",
       "      <td>NaN</td>\n",
       "    </tr>\n",
       "  </tbody>\n",
       "</table>\n",
       "</div>"
      ],
      "text/plain": [
       "   id                   name       eng_name  original_name  \\\n",
       "0  11             Денег нет!       No money   Okane ga nai   \n",
       "1  18  Проклятие цвета крови  Crimson Spell  Crimson Spell   \n",
       "\n",
       "                            another_names  chapters_count  remanga_id  \\\n",
       "0                     お金がないっ / 午夜情深 / 没有钱             116      9766.0   \n",
       "1  Kurimuzon Superu/クリムゾン・スペル/緋紅色的魔咒/緋色誘惑              75     10537.0   \n",
       "\n",
       "   remanga_id_1  n_duplicates  mangalib_id  mangalib_id_1  \\\n",
       "0           NaN           NaN          NaN            NaN   \n",
       "1           NaN           NaN          NaN            NaN   \n",
       "\n",
       "   n_duplicates_mangalib  \n",
       "0                    NaN  \n",
       "1                    NaN  "
      ]
     },
     "execution_count": 5,
     "metadata": {},
     "output_type": "execute_result"
    }
   ],
   "source": [
    "gmint_matched.head(2)"
   ]
  },
  {
   "cell_type": "code",
   "execution_count": null,
   "metadata": {},
   "outputs": [],
   "source": []
  },
  {
   "cell_type": "code",
   "execution_count": 6,
   "metadata": {},
   "outputs": [],
   "source": [
    "def get_matched(df):\n",
    "    return df[(~df.remanga_id.isna() | (~df.mangalib_id.isna()))]"
   ]
  },
  {
   "cell_type": "code",
   "execution_count": 7,
   "metadata": {},
   "outputs": [
    {
     "data": {
      "text/plain": [
       "0.03771236086701816"
      ]
     },
     "execution_count": 7,
     "metadata": {},
     "output_type": "execute_result"
    }
   ],
   "source": [
    "len(get_matched(gmint_matched) )/ len(gmint_matched)"
   ]
  },
  {
   "cell_type": "code",
   "execution_count": 8,
   "metadata": {},
   "outputs": [
    {
     "data": {
      "text/plain": [
       "0.5423728813559322"
      ]
     },
     "execution_count": 8,
     "metadata": {},
     "output_type": "execute_result"
    }
   ],
   "source": [
    "len(get_matched(gmanga_matched) )/ len(gmanga_matched)"
   ]
  },
  {
   "cell_type": "code",
   "execution_count": 11,
   "metadata": {},
   "outputs": [],
   "source": [
    "fetch_valid_ixs = lambda df, col: df[~df[col].isna()][col].tolist()\n",
    "remanga_matched_ids = []\n",
    "remanga_matched_ids += fetch_valid_ixs(gmanga_matched, 'remanga_id')\n",
    "remanga_matched_ids += fetch_valid_ixs(gmanga_matched, 'remanga_id_2')\n",
    "remanga_matched_ids += fetch_valid_ixs(gmanga_matched, 'remanga_id_3')\n",
    "remanga_matched_ids += fetch_valid_ixs(gmint_matched, 'remanga_id')\n",
    "remanga_matched_ids += fetch_valid_ixs(gmint_matched, 'remanga_id_1')"
   ]
  },
  {
   "cell_type": "code",
   "execution_count": 12,
   "metadata": {},
   "outputs": [
    {
     "data": {
      "text/html": [
       "<div>\n",
       "<style scoped>\n",
       "    .dataframe tbody tr th:only-of-type {\n",
       "        vertical-align: middle;\n",
       "    }\n",
       "\n",
       "    .dataframe tbody tr th {\n",
       "        vertical-align: top;\n",
       "    }\n",
       "\n",
       "    .dataframe thead th {\n",
       "        text-align: right;\n",
       "    }\n",
       "</style>\n",
       "<table border=\"1\" class=\"dataframe\">\n",
       "  <thead>\n",
       "    <tr style=\"text-align: right;\">\n",
       "      <th></th>\n",
       "      <th>rus_name</th>\n",
       "      <th>en_name</th>\n",
       "      <th>issue_year</th>\n",
       "      <th>avg_rating</th>\n",
       "      <th>total_views</th>\n",
       "      <th>total_votes</th>\n",
       "      <th>type</th>\n",
       "      <th>dir</th>\n",
       "      <th>n_chapters</th>\n",
       "      <th>id</th>\n",
       "    </tr>\n",
       "  </thead>\n",
       "  <tbody>\n",
       "    <tr>\n",
       "      <th>3</th>\n",
       "      <td>Герой иного мнения</td>\n",
       "      <td>Hero with another opinion</td>\n",
       "      <td>2020.0</td>\n",
       "      <td>9.2</td>\n",
       "      <td>458051</td>\n",
       "      <td>111061</td>\n",
       "      <td>Рукомикс</td>\n",
       "      <td>hero-with-another-opinion</td>\n",
       "      <td>9.0</td>\n",
       "      <td>3</td>\n",
       "    </tr>\n",
       "    <tr>\n",
       "      <th>7</th>\n",
       "      <td>Архимаг, который вернулся спустя 4000 лет</td>\n",
       "      <td>The archmage who returned after 4000 years</td>\n",
       "      <td>2020.0</td>\n",
       "      <td>9.0</td>\n",
       "      <td>3786103</td>\n",
       "      <td>684219</td>\n",
       "      <td>Манхва</td>\n",
       "      <td>the-archmage-who-returned-after-4000-years</td>\n",
       "      <td>82.0</td>\n",
       "      <td>7</td>\n",
       "    </tr>\n",
       "    <tr>\n",
       "      <th>16</th>\n",
       "      <td>Воин-скелет не смог удержать подземелье</td>\n",
       "      <td>Skeleton Soldier Couldn't Protect the Dungeon</td>\n",
       "      <td>2018.0</td>\n",
       "      <td>9.2</td>\n",
       "      <td>3191592</td>\n",
       "      <td>533681</td>\n",
       "      <td>Манхва</td>\n",
       "      <td>skeleton_soldier_couldnt_protect_the_dungeon</td>\n",
       "      <td>141.0</td>\n",
       "      <td>16</td>\n",
       "    </tr>\n",
       "    <tr>\n",
       "      <th>28</th>\n",
       "      <td>Я убил Бессмертного</td>\n",
       "      <td>I Killed The Immortal</td>\n",
       "      <td>2021.0</td>\n",
       "      <td>9.1</td>\n",
       "      <td>74032</td>\n",
       "      <td>17948</td>\n",
       "      <td>Рукомикс</td>\n",
       "      <td>i-killed-the-immortal</td>\n",
       "      <td>3.0</td>\n",
       "      <td>28</td>\n",
       "    </tr>\n",
       "    <tr>\n",
       "      <th>29</th>\n",
       "      <td>Раб \"Б\" ранга</td>\n",
       "      <td>\"B\" rank slave</td>\n",
       "      <td>2020.0</td>\n",
       "      <td>7.9</td>\n",
       "      <td>1715203</td>\n",
       "      <td>290731</td>\n",
       "      <td>Манхва</td>\n",
       "      <td>b-rank-slave</td>\n",
       "      <td>58.0</td>\n",
       "      <td>29</td>\n",
       "    </tr>\n",
       "    <tr>\n",
       "      <th>...</th>\n",
       "      <td>...</td>\n",
       "      <td>...</td>\n",
       "      <td>...</td>\n",
       "      <td>...</td>\n",
       "      <td>...</td>\n",
       "      <td>...</td>\n",
       "      <td>...</td>\n",
       "      <td>...</td>\n",
       "      <td>...</td>\n",
       "      <td>...</td>\n",
       "    </tr>\n",
       "    <tr>\n",
       "      <th>16850</th>\n",
       "      <td>Фея-полукровка</td>\n",
       "      <td>1|2 Fairy!</td>\n",
       "      <td>1985.0</td>\n",
       "      <td>0.0</td>\n",
       "      <td>55</td>\n",
       "      <td>0</td>\n",
       "      <td>Манга</td>\n",
       "      <td>12-fairy</td>\n",
       "      <td>3.0</td>\n",
       "      <td>16850</td>\n",
       "    </tr>\n",
       "    <tr>\n",
       "      <th>16862</th>\n",
       "      <td>Клочки, улитки и щенячьи хвостики</td>\n",
       "      <td>Snips and Snails and Puppy Dog Tails</td>\n",
       "      <td>2012.0</td>\n",
       "      <td>0.0</td>\n",
       "      <td>107</td>\n",
       "      <td>2</td>\n",
       "      <td>Манга</td>\n",
       "      <td>snips-and-snails-and-puppy-dog-tails</td>\n",
       "      <td>6.0</td>\n",
       "      <td>16862</td>\n",
       "    </tr>\n",
       "    <tr>\n",
       "      <th>16880</th>\n",
       "      <td>Бронированные защитники справедливости эпохи Х...</td>\n",
       "      <td>Heisei Armored Justice Corps</td>\n",
       "      <td>1992.0</td>\n",
       "      <td>0.0</td>\n",
       "      <td>114</td>\n",
       "      <td>0</td>\n",
       "      <td>Манга</td>\n",
       "      <td>heisei-armored-justice-corps</td>\n",
       "      <td>6.0</td>\n",
       "      <td>16880</td>\n",
       "    </tr>\n",
       "    <tr>\n",
       "      <th>16881</th>\n",
       "      <td>Голубое семя</td>\n",
       "      <td>Blue Seed</td>\n",
       "      <td>1992.0</td>\n",
       "      <td>0.0</td>\n",
       "      <td>188</td>\n",
       "      <td>6</td>\n",
       "      <td>Манга</td>\n",
       "      <td>blue-seed</td>\n",
       "      <td>5.0</td>\n",
       "      <td>16881</td>\n",
       "    </tr>\n",
       "    <tr>\n",
       "      <th>16883</th>\n",
       "      <td>Проклятый</td>\n",
       "      <td>Damned</td>\n",
       "      <td>1992.0</td>\n",
       "      <td>0.0</td>\n",
       "      <td>119</td>\n",
       "      <td>3</td>\n",
       "      <td>Манга</td>\n",
       "      <td>damned</td>\n",
       "      <td>3.0</td>\n",
       "      <td>16883</td>\n",
       "    </tr>\n",
       "  </tbody>\n",
       "</table>\n",
       "<p>5864 rows × 10 columns</p>\n",
       "</div>"
      ],
      "text/plain": [
       "                                                rus_name  \\\n",
       "3                                     Герой иного мнения   \n",
       "7              Архимаг, который вернулся спустя 4000 лет   \n",
       "16               Воин-скелет не смог удержать подземелье   \n",
       "28                                   Я убил Бессмертного   \n",
       "29                                         Раб \"Б\" ранга   \n",
       "...                                                  ...   \n",
       "16850                                     Фея-полукровка   \n",
       "16862                  Клочки, улитки и щенячьи хвостики   \n",
       "16880  Бронированные защитники справедливости эпохи Х...   \n",
       "16881                                       Голубое семя   \n",
       "16883                                          Проклятый   \n",
       "\n",
       "                                             en_name  issue_year  avg_rating  \\\n",
       "3                          Hero with another opinion      2020.0         9.2   \n",
       "7         The archmage who returned after 4000 years      2020.0         9.0   \n",
       "16     Skeleton Soldier Couldn't Protect the Dungeon      2018.0         9.2   \n",
       "28                             I Killed The Immortal      2021.0         9.1   \n",
       "29                                    \"B\" rank slave      2020.0         7.9   \n",
       "...                                              ...         ...         ...   \n",
       "16850                                     1|2 Fairy!      1985.0         0.0   \n",
       "16862           Snips and Snails and Puppy Dog Tails      2012.0         0.0   \n",
       "16880                   Heisei Armored Justice Corps      1992.0         0.0   \n",
       "16881                                      Blue Seed      1992.0         0.0   \n",
       "16883                                         Damned      1992.0         0.0   \n",
       "\n",
       "       total_views  total_votes      type  \\\n",
       "3           458051       111061  Рукомикс   \n",
       "7          3786103       684219    Манхва   \n",
       "16         3191592       533681    Манхва   \n",
       "28           74032        17948  Рукомикс   \n",
       "29         1715203       290731    Манхва   \n",
       "...            ...          ...       ...   \n",
       "16850           55            0     Манга   \n",
       "16862          107            2     Манга   \n",
       "16880          114            0     Манга   \n",
       "16881          188            6     Манга   \n",
       "16883          119            3     Манга   \n",
       "\n",
       "                                                dir n_chapters     id  \n",
       "3                         hero-with-another-opinion        9.0      3  \n",
       "7        the-archmage-who-returned-after-4000-years       82.0      7  \n",
       "16     skeleton_soldier_couldnt_protect_the_dungeon      141.0     16  \n",
       "28                            i-killed-the-immortal        3.0     28  \n",
       "29                                     b-rank-slave       58.0     29  \n",
       "...                                             ...        ...    ...  \n",
       "16850                                      12-fairy        3.0  16850  \n",
       "16862          snips-and-snails-and-puppy-dog-tails        6.0  16862  \n",
       "16880                  heisei-armored-justice-corps        6.0  16880  \n",
       "16881                                     blue-seed        5.0  16881  \n",
       "16883                                        damned        3.0  16883  \n",
       "\n",
       "[5864 rows x 10 columns]"
      ]
     },
     "execution_count": 12,
     "metadata": {},
     "output_type": "execute_result"
    }
   ],
   "source": [
    "remanga[~remanga.id.isin(remanga_matched_ids)]"
   ]
  },
  {
   "cell_type": "code",
   "execution_count": 41,
   "metadata": {},
   "outputs": [
    {
     "data": {
      "text/plain": [
       "0.34700278122965855"
      ]
     },
     "execution_count": 41,
     "metadata": {},
     "output_type": "execute_result"
    }
   ],
   "source": [
    "len(remanga[~remanga.id.isin(remanga_matched_ids)]) / len(remanga)"
   ]
  },
  {
   "cell_type": "code",
   "execution_count": 13,
   "metadata": {},
   "outputs": [],
   "source": [
    "remanga[~remanga.id.isin(remanga_matched_ids)].to_csv('./data/missing/remanga_exclusive.csv', sep=';')"
   ]
  },
  {
   "cell_type": "code",
   "execution_count": 14,
   "metadata": {},
   "outputs": [],
   "source": [
    "mangalib_matched_ids = []\n",
    "mangalib_matched_ids += fetch_valid_ixs(gmanga_matched, 'mangalib_id')\n",
    "mangalib_matched_ids += fetch_valid_ixs(gmanga_matched, 'mangalib_id_1')\n",
    "mangalib_matched_ids += fetch_valid_ixs(gmint_matched, 'mangalib_id')\n",
    "mangalib_matched_ids += fetch_valid_ixs(gmint_matched, 'mangalib_id_1')"
   ]
  },
  {
   "cell_type": "code",
   "execution_count": 15,
   "metadata": {},
   "outputs": [
    {
     "data": {
      "text/html": [
       "<div>\n",
       "<style scoped>\n",
       "    .dataframe tbody tr th:only-of-type {\n",
       "        vertical-align: middle;\n",
       "    }\n",
       "\n",
       "    .dataframe tbody tr th {\n",
       "        vertical-align: top;\n",
       "    }\n",
       "\n",
       "    .dataframe thead th {\n",
       "        text-align: right;\n",
       "    }\n",
       "</style>\n",
       "<table border=\"1\" class=\"dataframe\">\n",
       "  <thead>\n",
       "    <tr style=\"text-align: right;\">\n",
       "      <th></th>\n",
       "      <th>id</th>\n",
       "      <th>link</th>\n",
       "      <th>data_id</th>\n",
       "      <th>manga_type</th>\n",
       "      <th>name</th>\n",
       "    </tr>\n",
       "  </thead>\n",
       "  <tbody>\n",
       "    <tr>\n",
       "      <th>2</th>\n",
       "      <td>2</td>\n",
       "      <td>poidyom-gulyat</td>\n",
       "      <td>67688</td>\n",
       "      <td>Руманга</td>\n",
       "      <td>Пойдём гулять!</td>\n",
       "    </tr>\n",
       "    <tr>\n",
       "      <th>8</th>\n",
       "      <td>8</td>\n",
       "      <td>bastard-hwang-youngchan</td>\n",
       "      <td>2035</td>\n",
       "      <td>Манхва</td>\n",
       "      <td>Сволочь</td>\n",
       "    </tr>\n",
       "    <tr>\n",
       "      <th>9</th>\n",
       "      <td>9</td>\n",
       "      <td>ranker-who-lives-a-second-time</td>\n",
       "      <td>12478</td>\n",
       "      <td>Манхва</td>\n",
       "      <td>Ранкер, который живет второй раз</td>\n",
       "    </tr>\n",
       "    <tr>\n",
       "      <th>11</th>\n",
       "      <td>11</td>\n",
       "      <td>nan-hao-shang-feng</td>\n",
       "      <td>18406</td>\n",
       "      <td>Маньхуа</td>\n",
       "      <td>Нань Хао и Шан Фэнь</td>\n",
       "    </tr>\n",
       "    <tr>\n",
       "      <th>23</th>\n",
       "      <td>23</td>\n",
       "      <td>ag-yeog-uiending-eunjug-eumppun</td>\n",
       "      <td>29916</td>\n",
       "      <td>Манхва</td>\n",
       "      <td>Единственный исход злодейки — смерть</td>\n",
       "    </tr>\n",
       "    <tr>\n",
       "      <th>...</th>\n",
       "      <td>...</td>\n",
       "      <td>...</td>\n",
       "      <td>...</td>\n",
       "      <td>...</td>\n",
       "      <td>...</td>\n",
       "    </tr>\n",
       "    <tr>\n",
       "      <th>1787</th>\n",
       "      <td>1787</td>\n",
       "      <td>great-sword</td>\n",
       "      <td>13710</td>\n",
       "      <td>Маньхуа</td>\n",
       "      <td>Легендарный бог меча</td>\n",
       "    </tr>\n",
       "    <tr>\n",
       "      <th>1788</th>\n",
       "      <td>1788</td>\n",
       "      <td>haikyuu-dj-ano-machi-ni-sunderu-karera-no-koto...</td>\n",
       "      <td>8833</td>\n",
       "      <td>Манга</td>\n",
       "      <td>О тех, кто живет в том городе</td>\n",
       "    </tr>\n",
       "    <tr>\n",
       "      <th>1793</th>\n",
       "      <td>1793</td>\n",
       "      <td>zhi-zun-kuang-di-xi-tong</td>\n",
       "      <td>35272</td>\n",
       "      <td>Маньхуа</td>\n",
       "      <td>Система Верховного  Императора</td>\n",
       "    </tr>\n",
       "    <tr>\n",
       "      <th>1796</th>\n",
       "      <td>1796</td>\n",
       "      <td>my-fiance-is-in-love-with-my-little-sister</td>\n",
       "      <td>31862</td>\n",
       "      <td>Манга</td>\n",
       "      <td>Мой жених влюбился в мою младшую сестру</td>\n",
       "    </tr>\n",
       "    <tr>\n",
       "      <th>1797</th>\n",
       "      <td>1797</td>\n",
       "      <td>shwihyangjeogyeog-geunyeo</td>\n",
       "      <td>32161</td>\n",
       "      <td>Манхва</td>\n",
       "      <td>Она в моем вкусе</td>\n",
       "    </tr>\n",
       "  </tbody>\n",
       "</table>\n",
       "<p>416 rows × 5 columns</p>\n",
       "</div>"
      ],
      "text/plain": [
       "        id                                               link  data_id  \\\n",
       "2        2                                     poidyom-gulyat    67688   \n",
       "8        8                            bastard-hwang-youngchan     2035   \n",
       "9        9                     ranker-who-lives-a-second-time    12478   \n",
       "11      11                                 nan-hao-shang-feng    18406   \n",
       "23      23                    ag-yeog-uiending-eunjug-eumppun    29916   \n",
       "...    ...                                                ...      ...   \n",
       "1787  1787                                        great-sword    13710   \n",
       "1788  1788  haikyuu-dj-ano-machi-ni-sunderu-karera-no-koto...     8833   \n",
       "1793  1793                           zhi-zun-kuang-di-xi-tong    35272   \n",
       "1796  1796         my-fiance-is-in-love-with-my-little-sister    31862   \n",
       "1797  1797                          shwihyangjeogyeog-geunyeo    32161   \n",
       "\n",
       "     manga_type                                     name  \n",
       "2       Руманга                           Пойдём гулять!  \n",
       "8        Манхва                                  Сволочь  \n",
       "9        Манхва         Ранкер, который живет второй раз  \n",
       "11      Маньхуа                      Нань Хао и Шан Фэнь  \n",
       "23       Манхва     Единственный исход злодейки — смерть  \n",
       "...         ...                                      ...  \n",
       "1787    Маньхуа                     Легендарный бог меча  \n",
       "1788      Манга            О тех, кто живет в том городе  \n",
       "1793    Маньхуа           Система Верховного  Императора  \n",
       "1796      Манга  Мой жених влюбился в мою младшую сестру  \n",
       "1797     Манхва                         Она в моем вкусе  \n",
       "\n",
       "[416 rows x 5 columns]"
      ]
     },
     "execution_count": 15,
     "metadata": {},
     "output_type": "execute_result"
    }
   ],
   "source": [
    "mangalib[~mangalib.id.isin(mangalib_matched_ids)]"
   ]
  },
  {
   "cell_type": "code",
   "execution_count": 42,
   "metadata": {},
   "outputs": [
    {
     "data": {
      "text/plain": [
       "0.2311111111111111"
      ]
     },
     "execution_count": 42,
     "metadata": {},
     "output_type": "execute_result"
    }
   ],
   "source": [
    "len(mangalib[~mangalib.id.isin(mangalib_matched_ids)]) / len(mangalib)"
   ]
  },
  {
   "cell_type": "code",
   "execution_count": 16,
   "metadata": {},
   "outputs": [],
   "source": [
    "mangalib[~mangalib.id.isin(mangalib_matched_ids)].to_csv('./data/missing/mangalib.csv', sep=';')"
   ]
  },
  {
   "cell_type": "code",
   "execution_count": null,
   "metadata": {},
   "outputs": [],
   "source": []
  },
  {
   "cell_type": "code",
   "execution_count": 17,
   "metadata": {},
   "outputs": [],
   "source": [
    "# add number of remanga chapters\n",
    "cond = ~gmanga_matched.remanga_id.isna()\n",
    "remanga_ids = gmanga_matched.loc[cond].remanga_id.astype(int)\n",
    "gmanga_matched.loc[cond, 'remanga_chapters_n'] = remanga.set_index('id').loc[remanga_ids].n_chapters.tolist()"
   ]
  },
  {
   "cell_type": "code",
   "execution_count": 23,
   "metadata": {},
   "outputs": [],
   "source": [
    "is_num = lambda s: (all(list(map(lambda c: c.isdigit() or c == '.', str(s)))))\n",
    "\n",
    "chapters_n = gmanga_matched[['chapters_count', 'remanga_chapters_n']]\n",
    "chapters_n = chapters_n[(chapters_n['chapters_count'].apply(is_num)) & \n",
    "                        (chapters_n['remanga_chapters_n'].apply(is_num))].astype(float)"
   ]
  },
  {
   "cell_type": "code",
   "execution_count": null,
   "metadata": {},
   "outputs": [],
   "source": []
  },
  {
   "cell_type": "code",
   "execution_count": 26,
   "metadata": {},
   "outputs": [
    {
     "data": {
      "image/png": "[encoded data removed]",
      "text/plain": [
       "<Figure size 432x288 with 1 Axes>"
      ]
     },
     "metadata": {
      "needs_background": "light"
     },
     "output_type": "display_data"
    }
   ],
   "source": [
    "chapters_diff = chapters_n['chapters_count'] - chapters_n['remanga_chapters_n']\n",
    "CHAPTERS_DIFF = 0\n",
    "chapters_diff[abs(chapters_diff)>=CHAPTERS_DIFF].hist(bins=100, rwidth=0.9)\n",
    "plt.suptitle('Разница в главах между grouple и остальными')\n",
    "plt.xlabel('Разница')\n",
    "plt.ylabel('Количество тайтлов')\n",
    "plt.savefig('pics/chapters_diff.png')"
   ]
  },
  {
   "cell_type": "code",
   "execution_count": 40,
   "metadata": {},
   "outputs": [
    {
     "data": {
      "image/png": "[encoded data removed]",
      "text/plain": [
       "<Figure size 432x288 with 1 Axes>"
      ]
     },
     "metadata": {
      "needs_background": "light"
     },
     "output_type": "display_data"
    }
   ],
   "source": [
    "CHAPTERS_DIFF = 0\n",
    "chapters_diff[abs(chapters_diff)>=CHAPTERS_DIFF].hist(bins=50, rwidth=0.7)\n",
    "plt.ylim(0, 90)\n",
    "plt.suptitle('Разница в главах между grouple и остальными, детализация')\n",
    "plt.xlabel('Разница')\n",
    "plt.ylabel('Количество тайтлов')\n",
    "plt.savefig('pics/chapters_diff_detailed.png')"
   ]
  },
  {
   "cell_type": "code",
   "execution_count": null,
   "metadata": {},
   "outputs": [],
   "source": []
  }
 ],
 "metadata": {
  "kernelspec": {
   "display_name": "Python 3",
   "language": "python",
   "name": "python3"
  },
  "language_info": {
   "codemirror_mode": {
    "name": "ipython",
    "version": 3
   },
   "file_extension": ".py",
   "mimetype": "text/x-python",
   "name": "python",
   "nbconvert_exporter": "python",
   "pygments_lexer": "ipython3",
   "version": "3.6.9"
  }
 },
 "nbformat": 4,
 "nbformat_minor": 4
}
