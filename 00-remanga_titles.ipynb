{
 "cells": [
  {
   "cell_type": "code",
   "execution_count": 54,
   "metadata": {},
   "outputs": [],
   "source": [
    "import requests as r\n",
    "from time import sleep\n",
    "import pickle\n",
    "from random import choice\n",
    "from tqdm.notebook import tqdm\n",
    "from IPython.display import IFrame\n",
    "import pandas as pd"
   ]
  },
  {
   "cell_type": "markdown",
   "metadata": {},
   "source": [
    "# Load all catalog pages"
   ]
  },
  {
   "cell_type": "code",
   "execution_count": 2,
   "metadata": {},
   "outputs": [],
   "source": [
    "def get_page(n):\n",
    "    addr = 'https://api.remanga.org/api/search/catalog/'\n",
    "    res = r.get(addr, params={'ordering': '-rating',\n",
    "                          'page': n,\n",
    "                          'count': 300})\n",
    "    assert res.status_code == 200\n",
    "    return res.json()"
   ]
  },
  {
   "cell_type": "code",
   "execution_count": 4,
   "metadata": {},
   "outputs": [],
   "source": [
    "items = []"
   ]
  },
  {
   "cell_type": "code",
   "execution_count": 5,
   "metadata": {},
   "outputs": [
    {
     "name": "stderr",
     "output_type": "stream",
     "text": [
      "100%|██████████| 58/58 [01:29<00:00,  1.54s/it]\n"
     ]
    }
   ],
   "source": [
    "for page_n in tqdm(range(1, 59)):\n",
    "    json_items = get_page(page_n)['content']\n",
    "    items += json_items\n",
    "    sleep(1.0)"
   ]
  },
  {
   "cell_type": "markdown",
   "metadata": {},
   "source": [
    "# Create dataframe"
   ]
  },
  {
   "cell_type": "code",
   "execution_count": 6,
   "metadata": {},
   "outputs": [
    {
     "data": {
      "text/plain": [
       "{'id': 2060,\n",
       " 'en_name': 'Solo Leveling',\n",
       " 'rus_name': 'Поднятие уровня в одиночку',\n",
       " 'dir': 'solo-leveling',\n",
       " 'issue_year': 2018,\n",
       " 'avg_rating': '9.6',\n",
       " 'type': 'Манхва',\n",
       " 'total_views': 9546754,\n",
       " 'total_votes': 1210457,\n",
       " 'cover_high': 'titles/solo-leveling/3d99c504bdc727e34d12eb945f09e30a.jpg',\n",
       " 'cover_mid': 'titles/solo-leveling/60da630a4154ad4ab38883d37d38a7b7.jpg',\n",
       " 'cover_low': 'titles/solo-leveling/8dfa20a69789960015a39778536ab507.jpg',\n",
       " 'bookmark_type': None,\n",
       " 'genres': [{'id': 2, 'name': 'Боевик'},\n",
       "  {'id': 12, 'name': 'Игра'},\n",
       "  {'id': 16, 'name': 'Элементы юмора'},\n",
       "  {'id': 23, 'name': 'Приключения'},\n",
       "  {'id': 25, 'name': 'Романтика'},\n",
       "  {'id': 30, 'name': 'Сёнэн'},\n",
       "  {'id': 38, 'name': 'Фэнтези'}],\n",
       " 'img': {'high': '/media/titles/solo-leveling/3d99c504bdc727e34d12eb945f09e30a.jpg',\n",
       "  'mid': '/media/titles/solo-leveling/60da630a4154ad4ab38883d37d38a7b7.jpg',\n",
       "  'low': '/media/titles/solo-leveling/8dfa20a69789960015a39778536ab507.jpg'},\n",
       " 'categories': [{'id': 5, 'name': 'Веб'},\n",
       "  {'id': 6, 'name': 'В цвете'},\n",
       "  {'id': 13, 'name': 'Реинкарнация'},\n",
       "  {'id': 15, 'name': 'Демоны'},\n",
       "  {'id': 22, 'name': 'Магия'},\n",
       "  {'id': 26, 'name': 'Антигерой'},\n",
       "  {'id': 27, 'name': 'Призраки / Духи'},\n",
       "  {'id': 29, 'name': 'Военные'},\n",
       "  {'id': 38, 'name': 'Монстры'},\n",
       "  {'id': 41, 'name': 'Выживание'},\n",
       "  {'id': 45, 'name': 'Боги'},\n",
       "  {'id': 48, 'name': 'Ангелы'},\n",
       "  {'id': 50, 'name': 'Апокалипсис'},\n",
       "  {'id': 52, 'name': 'Артефакты'},\n",
       "  {'id': 59, 'name': 'Волшебные существа'},\n",
       "  {'id': 62, 'name': 'Гильдии'},\n",
       "  {'id': 64, 'name': 'ГГ мужчина'},\n",
       "  {'id': 68, 'name': 'Ранги силы'},\n",
       "  {'id': 69, 'name': 'Жестокий мир'},\n",
       "  {'id': 73, 'name': 'Игровые элементы'},\n",
       "  {'id': 75, 'name': 'Квесты'},\n",
       "  {'id': 80, 'name': 'Навыки / способности'},\n",
       "  {'id': 82, 'name': 'Насилие / жестокость'},\n",
       "  {'id': 83, 'name': 'Нежить'},\n",
       "  {'id': 86, 'name': 'Подземелья'},\n",
       "  {'id': 88, 'name': 'Разумные расы'},\n",
       "  {'id': 91, 'name': 'Система'},\n",
       "  {'id': 94, 'name': 'Спасение мира'},\n",
       "  {'id': 110, 'name': 'ГГ имба'},\n",
       "  {'id': 111, 'name': 'Умный ГГ'},\n",
       "  {'id': 118, 'name': 'Прокачка'},\n",
       "  {'id': 122, 'name': 'Бои на мечах'}]}"
      ]
     },
     "execution_count": 6,
     "metadata": {},
     "output_type": "execute_result"
    }
   ],
   "source": [
    "items[0]"
   ]
  },
  {
   "cell_type": "code",
   "execution_count": 12,
   "metadata": {},
   "outputs": [],
   "source": [
    "cols = ['rus_name', 'en_name', 'issue_year', 'avg_rating', 'total_views', 'total_votes', 'type', 'dir']\n",
    "\n",
    "def get_info(manga):\n",
    "    fields = [manga[c] for c in cols]\n",
    "    return fields"
   ]
  },
  {
   "cell_type": "code",
   "execution_count": 13,
   "metadata": {},
   "outputs": [
    {
     "data": {
      "text/plain": [
       "['Поднятие уровня в одиночку',\n",
       " 'Solo Leveling',\n",
       " 2018,\n",
       " '9.6',\n",
       " 9546754,\n",
       " 1210457,\n",
       " 'Манхва',\n",
       " 'solo-leveling']"
      ]
     },
     "execution_count": 13,
     "metadata": {},
     "output_type": "execute_result"
    }
   ],
   "source": [
    "get_info(items[0])"
   ]
  },
  {
   "cell_type": "code",
   "execution_count": 14,
   "metadata": {
    "tags": []
   },
   "outputs": [
    {
     "data": {
      "text/html": [
       "<div>\n",
       "<style scoped>\n",
       "    .dataframe tbody tr th:only-of-type {\n",
       "        vertical-align: middle;\n",
       "    }\n",
       "\n",
       "    .dataframe tbody tr th {\n",
       "        vertical-align: top;\n",
       "    }\n",
       "\n",
       "    .dataframe thead th {\n",
       "        text-align: right;\n",
       "    }\n",
       "</style>\n",
       "<table border=\"1\" class=\"dataframe\">\n",
       "  <thead>\n",
       "    <tr style=\"text-align: right;\">\n",
       "      <th></th>\n",
       "      <th>rus_name</th>\n",
       "      <th>en_name</th>\n",
       "      <th>issue_year</th>\n",
       "      <th>avg_rating</th>\n",
       "      <th>total_views</th>\n",
       "      <th>total_votes</th>\n",
       "      <th>type</th>\n",
       "      <th>dir</th>\n",
       "    </tr>\n",
       "  </thead>\n",
       "  <tbody>\n",
       "    <tr>\n",
       "      <th>0</th>\n",
       "      <td>Поднятие уровня в одиночку</td>\n",
       "      <td>Solo Leveling</td>\n",
       "      <td>2018.0</td>\n",
       "      <td>9.6</td>\n",
       "      <td>9546754</td>\n",
       "      <td>1210457</td>\n",
       "      <td>Манхва</td>\n",
       "      <td>solo-leveling</td>\n",
       "    </tr>\n",
       "    <tr>\n",
       "      <th>1</th>\n",
       "      <td>Начало после конца</td>\n",
       "      <td>The Beginning After the End</td>\n",
       "      <td>2018.0</td>\n",
       "      <td>9.6</td>\n",
       "      <td>6130139</td>\n",
       "      <td>1172388</td>\n",
       "      <td>Западный комикс</td>\n",
       "      <td>the_beginning_after_the_end</td>\n",
       "    </tr>\n",
       "    <tr>\n",
       "      <th>2</th>\n",
       "      <td>Пик боевых искусств</td>\n",
       "      <td>Martial Peak</td>\n",
       "      <td>2018.0</td>\n",
       "      <td>8.7</td>\n",
       "      <td>25303479</td>\n",
       "      <td>3640188</td>\n",
       "      <td>Маньхуа</td>\n",
       "      <td>martial_peak</td>\n",
       "    </tr>\n",
       "    <tr>\n",
       "      <th>3</th>\n",
       "      <td>Герой иного мнения</td>\n",
       "      <td>Hero with another opinion</td>\n",
       "      <td>2020.0</td>\n",
       "      <td>9.2</td>\n",
       "      <td>458051</td>\n",
       "      <td>111061</td>\n",
       "      <td>Рукомикс</td>\n",
       "      <td>hero-with-another-opinion</td>\n",
       "    </tr>\n",
       "    <tr>\n",
       "      <th>4</th>\n",
       "      <td>Ранкер, который живёт второй раз</td>\n",
       "      <td>Ranker who lives a second time</td>\n",
       "      <td>2019.0</td>\n",
       "      <td>9.3</td>\n",
       "      <td>3009313</td>\n",
       "      <td>531178</td>\n",
       "      <td>Манхва</td>\n",
       "      <td>ranker-who-lives-a-second-time</td>\n",
       "    </tr>\n",
       "  </tbody>\n",
       "</table>\n",
       "</div>"
      ],
      "text/plain": [
       "                           rus_name                         en_name  \\\n",
       "0        Поднятие уровня в одиночку                   Solo Leveling   \n",
       "1                Начало после конца     The Beginning After the End   \n",
       "2               Пик боевых искусств                    Martial Peak   \n",
       "3                Герой иного мнения       Hero with another opinion   \n",
       "4  Ранкер, который живёт второй раз  Ranker who lives a second time   \n",
       "\n",
       "   issue_year  avg_rating  total_views  total_votes             type  \\\n",
       "0      2018.0         9.6      9546754      1210457           Манхва   \n",
       "1      2018.0         9.6      6130139      1172388  Западный комикс   \n",
       "2      2018.0         8.7     25303479      3640188          Маньхуа   \n",
       "3      2020.0         9.2       458051       111061         Рукомикс   \n",
       "4      2019.0         9.3      3009313       531178           Манхва   \n",
       "\n",
       "                              dir  \n",
       "0                   solo-leveling  \n",
       "1     the_beginning_after_the_end  \n",
       "2                    martial_peak  \n",
       "3       hero-with-another-opinion  \n",
       "4  ranker-who-lives-a-second-time  "
      ]
     },
     "execution_count": 14,
     "metadata": {},
     "output_type": "execute_result"
    }
   ],
   "source": [
    "parsed_items = list(map(get_info, items))\n",
    "df = pd.DataFrame(columns=cols, data=parsed_items)\n",
    "df.loc[:, 'avg_rating'] = df.avg_rating.astype(float)\n",
    "df.head()"
   ]
  },
  {
   "cell_type": "code",
   "execution_count": 18,
   "metadata": {},
   "outputs": [],
   "source": [
    "df.to_csv('data/remanga_catalog_mangas.csv', index=False)"
   ]
  },
  {
   "cell_type": "markdown",
   "metadata": {},
   "source": [
    "# Load info about title's chapters"
   ]
  },
  {
   "cell_type": "code",
   "execution_count": 34,
   "metadata": {},
   "outputs": [],
   "source": [
    "def get_manga(d):\n",
    "    addr = 'https://api.remanga.org/api/titles/'\n",
    "    res = r.get(addr + d)\n",
    "#     if res.status_code == 200:\n",
    "#         print('[WARN] status_code=%d on %s' % (res.status_code, d))\n",
    "    assert res.status_code == 200\n",
    "    return res.json()"
   ]
  },
  {
   "cell_type": "code",
   "execution_count": 52,
   "metadata": {
    "tags": []
   },
   "outputs": [
    {
     "data": {
      "application/vnd.jupyter.widget-view+json": {
       "model_id": "f10df10713b54e29a52f2c7f9bfcf656",
       "version_major": 2,
       "version_minor": 0
      },
      "text/plain": [
       "HBox(children=(FloatProgress(value=0.0, max=16899.0), HTML(value='')))"
      ]
     },
     "metadata": {},
     "output_type": "display_data"
    },
    {
     "name": "stdout",
     "output_type": "stream",
     "text": [
      "\n"
     ]
    }
   ],
   "source": [
    "addrs = [item['dir'] for item in items]\n",
    "raw_mangas = []\n",
    "bar = tqdm(addrs)\n",
    "for manga in bar:\n",
    "    try:\n",
    "        page = get_manga(manga)\n",
    "        raw_mangas.append(page)\n",
    "    except AssertionError:\n",
    "        raw_mangas.append(None)\n",
    "        \n",
    "    n_fails = len(list(filter(lambda m: m is None, raw_mangas)))\n",
    "    bar.set_postfix_str(f\"Fails {round(n_fails/len(addrs), 2)} ({n_fails})\")\n",
    "    \n",
    "    sleep(0.2)"
   ]
  },
  {
   "cell_type": "code",
   "execution_count": 56,
   "metadata": {},
   "outputs": [],
   "source": [
    "pickle.dump(raw_mangas, open('data/remanga_raw_titles.pkl', 'wb'))"
   ]
  },
  {
   "cell_type": "code",
   "execution_count": 62,
   "metadata": {},
   "outputs": [],
   "source": [
    "def fetch_chapters_n(manga):\n",
    "    if manga is None:\n",
    "        return None\n",
    "    return manga['content']['count_chapters']"
   ]
  },
  {
   "cell_type": "code",
   "execution_count": 63,
   "metadata": {},
   "outputs": [],
   "source": [
    "chapters = list(map(fetch_chapters_n, raw_mangas))\n",
    "df.loc[:, 'n_chapters'] = chapters"
   ]
  },
  {
   "cell_type": "code",
   "execution_count": 67,
   "metadata": {},
   "outputs": [
    {
     "data": {
      "text/plain": [
       "<AxesSubplot:>"
      ]
     },
     "execution_count": 67,
     "metadata": {},
     "output_type": "execute_result"
    },
    {
     "data": {
      "image/png": "[encoded data removed]",
      "text/plain": [
       "<Figure size 432x288 with 1 Axes>"
      ]
     },
     "metadata": {
      "needs_background": "light"
     },
     "output_type": "display_data"
    }
   ],
   "source": [
    "df.n_chapters.hist(bins=100)"
   ]
  },
  {
   "cell_type": "code",
   "execution_count": 69,
   "metadata": {},
   "outputs": [],
   "source": [
    "df.to_csv('data/remanga_catalog_mangas.csv', index=False)"
   ]
  },
  {
   "cell_type": "code",
   "execution_count": 71,
   "metadata": {},
   "outputs": [
    {
     "data": {
      "text/plain": [
       "278                         sun_ken_rock\n",
       "288      dad-im-not-going-to-get-married\n",
       "352        please_dont_bully_me_nagatoro\n",
       "358                     kill-the-villain\n",
       "370                      evil-ladys-hero\n",
       "                      ...               \n",
       "16329                   become-her-bride\n",
       "16337                     moon-star-june\n",
       "16485                captured-by-passion\n",
       "16675                      kishidou-club\n",
       "16682                black-cat-of-matter\n",
       "Name: dir, Length: 2041, dtype: object"
      ]
     },
     "execution_count": 71,
     "metadata": {},
     "output_type": "execute_result"
    }
   ],
   "source": []
  },
  {
   "cell_type": "code",
   "execution_count": null,
   "metadata": {},
   "outputs": [],
   "source": []
  }
 ],
 "metadata": {
  "kernelspec": {
   "display_name": "Python 3",
   "language": "python",
   "name": "python3"
  },
  "language_info": {
   "codemirror_mode": {
    "name": "ipython",
    "version": 3
   },
   "file_extension": ".py",
   "mimetype": "text/x-python",
   "name": "python",
   "nbconvert_exporter": "python",
   "pygments_lexer": "ipython3",
   "version": "3.6.9"
  }
 },
 "nbformat": 4,
 "nbformat_minor": 5
}
